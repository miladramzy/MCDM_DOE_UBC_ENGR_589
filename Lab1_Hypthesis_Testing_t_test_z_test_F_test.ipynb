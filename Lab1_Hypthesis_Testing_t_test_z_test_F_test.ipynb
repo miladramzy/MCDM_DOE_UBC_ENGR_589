{
  "cells": [
    {
      "cell_type": "markdown",
      "metadata": {
        "id": "view-in-github",
        "colab_type": "text"
      },
      "source": [
        "<a href=\"https://colab.research.google.com/github/miladramzy/MCDM_DOE_UBC_ENGR_589/blob/main/Lab1_Hypthesis_Testing_t_test_z_test_F_test.ipynb\" target=\"_parent\"><img src=\"https://colab.research.google.com/assets/colab-badge.svg\" alt=\"Open In Colab\"/></a>"
      ]
    },
    {
      "cell_type": "markdown",
      "metadata": {
        "id": "1Zgyn21OZJ29"
      },
      "source": [
        "![](Picture1.jpg)"
      ]
    },
    {
      "cell_type": "markdown",
      "metadata": {
        "id": "IpzqiRDkZJ2-"
      },
      "source": [
        "\n",
        "# ENGR 489/589\n",
        "### School of Engineering - Okanagan Campus\n",
        "### By Milad Ramezankhani, Dr. Abbas Milani\n",
        "#### milad.ramezankhani@ubc.ca | https://miladramzy.github.io/\n",
        "## Lab 1 -  Hypothesis Testing\n",
        "\n",
        "### Content:\n",
        "\n",
        "\n",
        "* Hypothesis Testing\n",
        "    * Libraries\n",
        "    * Normal probability plot\n",
        "    * t-test\n",
        "    * F-test\n",
        "    * Z-test\n"
      ]
    },
    {
      "cell_type": "markdown",
      "metadata": {
        "id": "01hGHRYAZJ2-"
      },
      "source": [
        "### Importing Libraries"
      ]
    },
    {
      "cell_type": "code",
      "execution_count": null,
      "metadata": {
        "id": "k-_7OLc8ZJ2_"
      },
      "outputs": [],
      "source": [
        "## Use Anaconda's Environment tab to install libraries\n",
        "\n",
        "import numpy as np\n",
        "import scipy as sp\n",
        "import pandas as pd\n",
        "import matplotlib.pyplot as plt\n",
        "import scipy.stats #stats is a module in the scipy library\n",
        "from scipy import stats"
      ]
    },
    {
      "cell_type": "markdown",
      "metadata": {
        "id": "rNu2tLXOZJ2_"
      },
      "source": [
        "##### Let's visualize the normal probability plot"
      ]
    },
    {
      "cell_type": "markdown",
      "metadata": {
        "id": "rwe-zqF3ZJ2_"
      },
      "source": [
        "#### 1) Manual calculations\n"
      ]
    },
    {
      "cell_type": "code",
      "execution_count": null,
      "metadata": {
        "id": "uEku6TIhZJ3A"
      },
      "outputs": [],
      "source": [
        "#Portland cement data\n",
        "Y1 = [16.85,16.4,17.21,16.35,16.52,17.04,16.96,17.15,16.59,16.57]\n",
        "Y2 = [16.62,16.75,17.37,17.12,16.98,16.87,17.34,17.02,17.08,17.27]"
      ]
    },
    {
      "cell_type": "code",
      "execution_count": null,
      "metadata": {
        "id": "IK6iXW0FZJ3A",
        "outputId": "0d84ec12-acd0-4364-d5ac-e6991090a47c"
      },
      "outputs": [
        {
          "name": "stdout",
          "output_type": "stream",
          "text": [
            "10\n"
          ]
        }
      ],
      "source": [
        "# length of the list\n",
        "m = len(Y1)\n",
        "print(m)"
      ]
    },
    {
      "cell_type": "code",
      "execution_count": null,
      "metadata": {
        "id": "tLeXsaVNZJ3A",
        "outputId": "c307b9ec-fca9-4eb1-bc8d-159f77861795"
      },
      "outputs": [
        {
          "data": {
            "text/plain": [
              "array([ 5., 15., 25., 35., 45., 55., 65., 75., 85., 95.])"
            ]
          },
          "execution_count": 22,
          "metadata": {},
          "output_type": "execute_result"
        }
      ],
      "source": [
        "## Building 100x(q-0.5)/m\n",
        "q = np.arange(1,11) - 0.5\n",
        "Q = (q*100)/m\n",
        "print(Q)"
      ]
    },
    {
      "cell_type": "code",
      "execution_count": null,
      "metadata": {
        "id": "QGGm7zbFZJ3A"
      },
      "outputs": [],
      "source": [
        "## Sort Y1 and Y2\n",
        "Y1_sorted = sorted(Y1)\n",
        "Y2_sorted = sorted(Y2)"
      ]
    },
    {
      "cell_type": "code",
      "execution_count": null,
      "metadata": {
        "id": "15MssHZqZJ3A",
        "outputId": "8de4689d-e30b-4c53-8726-f655035ad877"
      },
      "outputs": [
        {
          "data": {
            "text/plain": [
              "[<matplotlib.lines.Line2D at 0x169d70b2b70>]"
            ]
          },
          "execution_count": 54,
          "metadata": {},
          "output_type": "execute_result"
        },
        {
          "data": {
            "image/png": "[encoded data removed]",
            "text/plain": [
              "<Figure size 432x288 with 1 Axes>"
            ]
          },
          "metadata": {
            "needs_background": "light"
          },
          "output_type": "display_data"
        }
      ],
      "source": [
        "# normal probability plot \n",
        "plt.plot(Y1_sorted,Q, 'ro')\n",
        "plt.plot(Y2_sorted,Q, 'go')"
      ]
    },
    {
      "cell_type": "markdown",
      "metadata": {
        "id": "sVer71WFZJ3A"
      },
      "source": [
        "#### Using Scipy - https://docs.scipy.org/doc/scipy/reference/generated/scipy.stats.probplot.html"
      ]
    },
    {
      "cell_type": "code",
      "execution_count": null,
      "metadata": {
        "id": "dXMKpIkzZJ3B",
        "outputId": "49fce731-47c7-4d3a-8d43-c1a2e46504a4"
      },
      "outputs": [
        {
          "data": {
            "image/png": "[encoded data removed]",
            "text/plain": [
              "<Figure size 432x288 with 1 Axes>"
            ]
          },
          "metadata": {
            "needs_background": "light"
          },
          "output_type": "display_data"
        }
      ],
      "source": [
        "sp.stats.probplot(Y1, plot=plt)\n",
        "sp.stats.probplot(Y2, plot=plt)\n",
        "plt.show() # Notice the difference with the previous plot (Axes!)"
      ]
    },
    {
      "cell_type": "markdown",
      "metadata": {
        "id": "ZvLI1cFUZJ3B"
      },
      "source": [
        "# =======================================================\n",
        "#                                             Hypothesis Testing\n",
        "# ======================================================="
      ]
    },
    {
      "cell_type": "markdown",
      "metadata": {
        "id": "W8k_aP8bZJ3B"
      },
      "source": [
        "### t-test with and without equal variance https://docs.scipy.org/doc/scipy/reference/generated/scipy.stats.ttest_ind.html"
      ]
    },
    {
      "cell_type": "code",
      "execution_count": null,
      "metadata": {
        "id": "mQQ9B-DjZJ3B"
      },
      "outputs": [],
      "source": [
        "def tTest(sample1, sample2, alpha, equalVariance = True):\n",
        "    \"\"\"\n",
        "    \n",
        "    \"\"\"\n",
        "    dof = len(sample1) + len(sample1) -2 # degree of freedom\n",
        "    t1, p1 = stats.ttest_ind(sample1,sample2, equal_var = equalVariance) # returns test statistic and p-value\n",
        "    t_crt_twoTailed = stats.t.ppf((1-alpha/2), dof) # Critical t two-tail\n",
        "    t_crt_oneTailed = stats.t.ppf((1-alpha), dof) # Critical t one-tail\n",
        "    p_oneTailed = p1/2 # p-value one-tail\n",
        "    df = pd.DataFrame([[t1], [t_crt_twoTailed], [p1], [t_crt_oneTailed], [p_oneTailed], [alpha]], index = \n",
        "                      ['Test statistic', 'Critical t (two-tail)', 'p-value (two-tail)','Critical t (one-tail)',\n",
        "                       'p-value (one-tail)', 'alpha'])\n",
        "    return df"
      ]
    },
    {
      "cell_type": "code",
      "execution_count": null,
      "metadata": {
        "id": "_iifCE3cZJ3B",
        "outputId": "befdf188-496d-4626-83ef-cb3c4396317c"
      },
      "outputs": [
        {
          "data": {
            "text/html": [
              "<div>\n",
              "<style scoped>\n",
              "    .dataframe tbody tr th:only-of-type {\n",
              "        vertical-align: middle;\n",
              "    }\n",
              "\n",
              "    .dataframe tbody tr th {\n",
              "        vertical-align: top;\n",
              "    }\n",
              "\n",
              "    .dataframe thead th {\n",
              "        text-align: right;\n",
              "    }\n",
              "</style>\n",
              "<table border=\"1\" class=\"dataframe\">\n",
              "  <thead>\n",
              "    <tr style=\"text-align: right;\">\n",
              "      <th></th>\n",
              "      <th>0</th>\n",
              "    </tr>\n",
              "  </thead>\n",
              "  <tbody>\n",
              "    <tr>\n",
              "      <th>Test statistic</th>\n",
              "      <td>-2.186876</td>\n",
              "    </tr>\n",
              "    <tr>\n",
              "      <th>Critical t (two-tail)</th>\n",
              "      <td>2.100922</td>\n",
              "    </tr>\n",
              "    <tr>\n",
              "      <th>p-value (two-tail)</th>\n",
              "      <td>0.042197</td>\n",
              "    </tr>\n",
              "    <tr>\n",
              "      <th>Critical t (one-tail)</th>\n",
              "      <td>1.734064</td>\n",
              "    </tr>\n",
              "    <tr>\n",
              "      <th>p-value (one-tail)</th>\n",
              "      <td>0.021098</td>\n",
              "    </tr>\n",
              "    <tr>\n",
              "      <th>alpha</th>\n",
              "      <td>0.050000</td>\n",
              "    </tr>\n",
              "  </tbody>\n",
              "</table>\n",
              "</div>"
            ],
            "text/plain": [
              "                              0\n",
              "Test statistic        -2.186876\n",
              "Critical t (two-tail)  2.100922\n",
              "p-value (two-tail)     0.042197\n",
              "Critical t (one-tail)  1.734064\n",
              "p-value (one-tail)     0.021098\n",
              "alpha                  0.050000"
            ]
          },
          "execution_count": 9,
          "metadata": {},
          "output_type": "execute_result"
        }
      ],
      "source": [
        "Y1 = [16.85,16.4,17.21,16.35,16.52,17.04,16.96,17.15,16.59,16.57]\n",
        "Y2 = [16.62,16.75,17.37,17.12,16.98,16.87,17.34,17.02,17.08,17.27]\n",
        "alpha = 0.05\n",
        "tTest(Y1,Y2, alpha, equalVariance=True)"
      ]
    },
    {
      "cell_type": "markdown",
      "metadata": {
        "id": "B-QpZGy1ZJ3B"
      },
      "source": [
        "### Paired t-test https://docs.scipy.org/doc/scipy/reference/generated/scipy.stats.ttest_rel.html#scipy.stats.ttest_rel"
      ]
    },
    {
      "cell_type": "code",
      "execution_count": null,
      "metadata": {
        "id": "Sf82pmIDZJ3B"
      },
      "outputs": [],
      "source": [
        "def tTest_paired(sample1, sample2, alpha):\n",
        "    \"\"\"\n",
        "    \n",
        "    \"\"\"\n",
        "    dof = len(sample1) - 1 # degree of freedom\n",
        "    t1, p1 = stats.ttest_rel(sample1, sample2) # returns test statistic and p-value\n",
        "    t_crt_twoTailed = stats.t.ppf((1-alpha/2), dof) # Critical t two-tail\n",
        "    t_crt_oneTailed = stats.t.ppf((1-alpha), dof) # Critical t one-tail\n",
        "    p_oneTailed = p1/2 # p-value one-tail\n",
        "    df = pd.DataFrame([[t1], [t_crt_twoTailed], [p1], [t_crt_oneTailed], [p_oneTailed], [alpha]], index = \n",
        "                      ['Test statistic', 'Critical t (two-tail)', 'p-value (two-tail)','Critical t (one-tail)',\n",
        "                       'p-value (one-tail)', 'alpha'])\n",
        "    return df\n"
      ]
    },
    {
      "cell_type": "code",
      "execution_count": null,
      "metadata": {
        "id": "Zrx7ke4eZJ3B",
        "outputId": "d32d418c-ceac-4576-d732-99bb2d8a665c"
      },
      "outputs": [
        {
          "data": {
            "text/html": [
              "<div>\n",
              "<style scoped>\n",
              "    .dataframe tbody tr th:only-of-type {\n",
              "        vertical-align: middle;\n",
              "    }\n",
              "\n",
              "    .dataframe tbody tr th {\n",
              "        vertical-align: top;\n",
              "    }\n",
              "\n",
              "    .dataframe thead th {\n",
              "        text-align: right;\n",
              "    }\n",
              "</style>\n",
              "<table border=\"1\" class=\"dataframe\">\n",
              "  <thead>\n",
              "    <tr style=\"text-align: right;\">\n",
              "      <th></th>\n",
              "      <th>0</th>\n",
              "    </tr>\n",
              "  </thead>\n",
              "  <tbody>\n",
              "    <tr>\n",
              "      <th>Test statistic</th>\n",
              "      <td>-2.456173</td>\n",
              "    </tr>\n",
              "    <tr>\n",
              "      <th>Critical t (two-tail)</th>\n",
              "      <td>2.262157</td>\n",
              "    </tr>\n",
              "    <tr>\n",
              "      <th>p-value (two-tail)</th>\n",
              "      <td>0.036386</td>\n",
              "    </tr>\n",
              "    <tr>\n",
              "      <th>Critical t (one-tail)</th>\n",
              "      <td>1.833113</td>\n",
              "    </tr>\n",
              "    <tr>\n",
              "      <th>p-value (one-tail)</th>\n",
              "      <td>0.018193</td>\n",
              "    </tr>\n",
              "    <tr>\n",
              "      <th>alpha</th>\n",
              "      <td>0.050000</td>\n",
              "    </tr>\n",
              "  </tbody>\n",
              "</table>\n",
              "</div>"
            ],
            "text/plain": [
              "                              0\n",
              "Test statistic        -2.456173\n",
              "Critical t (two-tail)  2.262157\n",
              "p-value (two-tail)     0.036386\n",
              "Critical t (one-tail)  1.833113\n",
              "p-value (one-tail)     0.018193\n",
              "alpha                  0.050000"
            ]
          },
          "execution_count": 7,
          "metadata": {},
          "output_type": "execute_result"
        }
      ],
      "source": [
        "# Paired t-test example\n",
        "Y1 = [16.85,16.4,17.21,16.35,16.52,17.04,16.96,17.15,16.59,16.57]\n",
        "Y2 = [16.62,16.75,17.37,17.12,16.98,16.87,17.34,17.02,17.08,17.27]\n",
        "alpha = 0.05\n",
        "tTest_paired(Y1, Y2, alpha)"
      ]
    },
    {
      "cell_type": "markdown",
      "metadata": {
        "id": "pgG76cmhZJ3B"
      },
      "source": [
        "### F-test https://docs.scipy.org/doc/scipy/reference/generated/scipy.stats.f.html"
      ]
    },
    {
      "cell_type": "code",
      "execution_count": null,
      "metadata": {
        "id": "t1AqxeDgZJ3C"
      },
      "outputs": [],
      "source": [
        "# F-test function\n",
        "import numpy as np\n",
        "def fTest(sample1, sample2, alpha):\n",
        "    dof1 = len(sample1)-1\n",
        "    dof2 = len(sample2)-1\n",
        "    \n",
        "    F = np.var(sample1, ddof=1) / np.var(sample2, ddof=1) # Test Statistic\n",
        "    F_crt_upper = stats.f.ppf(1-alpha/2, dof1, dof2) # upper tail critical F\n",
        "    F_crt_lower = 1/(stats.f.ppf(1-alpha/2, dof1, dof2)) # lower tail critical F\n",
        "    F_crt_onetail = stats.f.ppf(1-alpha, dof1, dof2) # one-tail critical F\n",
        "    pvalue = 1 - stats.f.cdf(F, dof1, dof2) # P value\n",
        "    \n",
        "    df = pd.DataFrame([[F], [F_crt_upper], [F_crt_lower], [F_crt_onetail], [pvalue], [alpha]], index = \n",
        "                      ['Test statistic', 'Critical F - upper (two-tail)', 'Critical F - lower (two-tail)',\n",
        "                       'Critical F (one-tail)','p-value', 'alpha'])\n",
        "    return df\n",
        "\n"
      ]
    },
    {
      "cell_type": "code",
      "execution_count": null,
      "metadata": {
        "id": "C1VrInHFZJ3C",
        "outputId": "2c13c5b8-94b5-4e9e-ee1f-ad086705cd5a"
      },
      "outputs": [
        {
          "data": {
            "text/html": [
              "<div>\n",
              "<style scoped>\n",
              "    .dataframe tbody tr th:only-of-type {\n",
              "        vertical-align: middle;\n",
              "    }\n",
              "\n",
              "    .dataframe tbody tr th {\n",
              "        vertical-align: top;\n",
              "    }\n",
              "\n",
              "    .dataframe thead th {\n",
              "        text-align: right;\n",
              "    }\n",
              "</style>\n",
              "<table border=\"1\" class=\"dataframe\">\n",
              "  <thead>\n",
              "    <tr style=\"text-align: right;\">\n",
              "      <th></th>\n",
              "      <th>0</th>\n",
              "    </tr>\n",
              "  </thead>\n",
              "  <tbody>\n",
              "    <tr>\n",
              "      <th>Test statistic</th>\n",
              "      <td>1.022268</td>\n",
              "    </tr>\n",
              "    <tr>\n",
              "      <th>Critical F - upper (two-tail)</th>\n",
              "      <td>4.025994</td>\n",
              "    </tr>\n",
              "    <tr>\n",
              "      <th>Critical F - lower (two-tail)</th>\n",
              "      <td>0.248386</td>\n",
              "    </tr>\n",
              "    <tr>\n",
              "      <th>Critical F (one-tail)</th>\n",
              "      <td>3.178893</td>\n",
              "    </tr>\n",
              "    <tr>\n",
              "      <th>p-value</th>\n",
              "      <td>0.487183</td>\n",
              "    </tr>\n",
              "    <tr>\n",
              "      <th>alpha</th>\n",
              "      <td>0.050000</td>\n",
              "    </tr>\n",
              "  </tbody>\n",
              "</table>\n",
              "</div>"
            ],
            "text/plain": [
              "                                      0\n",
              "Test statistic                 1.022268\n",
              "Critical F - upper (two-tail)  4.025994\n",
              "Critical F - lower (two-tail)  0.248386\n",
              "Critical F (one-tail)          3.178893\n",
              "p-value                        0.487183\n",
              "alpha                          0.050000"
            ]
          },
          "execution_count": 5,
          "metadata": {},
          "output_type": "execute_result"
        }
      ],
      "source": [
        "# F-test example\n",
        "y1 = [64,71,83,59,65,56,69,74,82,79]\n",
        "y2 = [65,81,57,66,82,82,67,59,75,70]\n",
        "alpha = 0.05\n",
        "\n",
        "fTest(y1,y2,alpha)"
      ]
    },
    {
      "cell_type": "markdown",
      "metadata": {
        "id": "VEFFyVv1ZJ3C"
      },
      "source": [
        "#### Z-test "
      ]
    },
    {
      "cell_type": "code",
      "execution_count": null,
      "metadata": {
        "id": "4NGBCMRsZJ3C"
      },
      "outputs": [],
      "source": [
        "# Manual calculation\n",
        "\n",
        "alpha = 0.05\n",
        "\n",
        "Y1 = [16.03,16.04,16.05,16.05,16.02,16.01,15.96,15.98,16.02,15.99]\n",
        "Y2 = [16.02,15.97,15.96,16.01,15.99,16.03,16.04,16.02,16.01,16]\n",
        "\n",
        "sample1 = Y1\n",
        "sample2 = Y2\n",
        "\n",
        "Y1_m = np.mean(sample1) # sample 1 mean\n",
        "Y2_m = np.mean(sample2) # sample 2 mean\n",
        "\n",
        "n1 = len(sample1)  # sample size\n",
        "n2 = len(sample2)  # sample size\n",
        "\n",
        "var1 = 0.000225 # sample 1 variance\n",
        "var2 = 0.000324 # sample 2 variance\n",
        "\n",
        "denominator = np.sqrt((var1/n1) + (var2/n2))\n",
        "\n",
        "Z = (Y1_m - Y2_m)/denominator # test statistic\n",
        "\n",
        "pvalue_twotailed = 2*(1-stats.norm.cdf(np.abs(Z))) # p-value - two-tail\n",
        "pvalue_onetailed = 1-stats.norm.cdf(np.abs(Z)) # p-vale - one-tail\n",
        "\n",
        "Z_crt_twotailed = stats.norm.ppf(1-alpha/2) # critical Z - two-tail\n",
        "Z_crt_onetailed = stats.norm.ppf(1-alpha) # critical Z - one-tail\n",
        "\n"
      ]
    },
    {
      "cell_type": "code",
      "execution_count": null,
      "metadata": {
        "id": "S1HVzNWTZJ3C"
      },
      "outputs": [],
      "source": [
        "# Z-test function\n",
        "def ZTest(sample1, sample2, var1, var2, alpha):\n",
        "    sample1 = Y1\n",
        "    sample2 = Y2\n",
        "    \n",
        "    Y1_m = np.mean(sample1) # sample 1 mean\n",
        "    Y2_m = np.mean(sample2) # sample 2 mean\n",
        "    \n",
        "    n1 = len(sample1)  # sample size\n",
        "    n2 = len(sample2)  # sample size\n",
        "    \n",
        "    denominator = np.sqrt((var1/n1) + (var2/n2))\n",
        "\n",
        "    Z = (Y1_m - Y2_m)/denominator # test statistic\n",
        "\n",
        "    pvalue_twotailed = 2*(1-stats.norm.cdf(np.abs(Z))) # p-value - two-tail\n",
        "    pvalue_onetailed = 1-stats.norm.cdf(np.abs(Z)) # p-vale - one-tail\n",
        "\n",
        "    Z_crt_twotailed = stats.norm.ppf(1-alpha/2) # critical Z - two-tail\n",
        "    Z_crt_onetailed = stats.norm.ppf(1-alpha) # critical Z - one-tail\n",
        "    \n",
        "    df = pd.DataFrame([[Z], [Z_crt_twotailed], [pvalue_twotailed], [Z_crt_onetailed], [pvalue_onetailed], [alpha]],\n",
        "                index = ['Test statistic', 'Critical Z (two-tail)', 'p-value (two-tail)', 'Critical Z (one-tail)', \n",
        "                        'p-value (one-tail)', 'alpha'])\n",
        "    return df\n",
        "    "
      ]
    },
    {
      "cell_type": "code",
      "execution_count": null,
      "metadata": {
        "id": "TzVbHqU0ZJ3C",
        "outputId": "053a14fe-6deb-452a-b117-c2b42cc321a0"
      },
      "outputs": [
        {
          "data": {
            "text/html": [
              "<div>\n",
              "<style scoped>\n",
              "    .dataframe tbody tr th:only-of-type {\n",
              "        vertical-align: middle;\n",
              "    }\n",
              "\n",
              "    .dataframe tbody tr th {\n",
              "        vertical-align: top;\n",
              "    }\n",
              "\n",
              "    .dataframe thead th {\n",
              "        text-align: right;\n",
              "    }\n",
              "</style>\n",
              "<table border=\"1\" class=\"dataframe\">\n",
              "  <thead>\n",
              "    <tr style=\"text-align: right;\">\n",
              "      <th></th>\n",
              "      <th>0</th>\n",
              "    </tr>\n",
              "  </thead>\n",
              "  <tbody>\n",
              "    <tr>\n",
              "      <th>Test statistic</th>\n",
              "      <td>1.349627</td>\n",
              "    </tr>\n",
              "    <tr>\n",
              "      <th>Critical Z (two-tail)</th>\n",
              "      <td>1.959964</td>\n",
              "    </tr>\n",
              "    <tr>\n",
              "      <th>p-value (two-tail)</th>\n",
              "      <td>0.177136</td>\n",
              "    </tr>\n",
              "    <tr>\n",
              "      <th>Critical Z (one-tail)</th>\n",
              "      <td>1.644854</td>\n",
              "    </tr>\n",
              "    <tr>\n",
              "      <th>p-value (one-tail)</th>\n",
              "      <td>0.088568</td>\n",
              "    </tr>\n",
              "    <tr>\n",
              "      <th>alpha</th>\n",
              "      <td>0.050000</td>\n",
              "    </tr>\n",
              "  </tbody>\n",
              "</table>\n",
              "</div>"
            ],
            "text/plain": [
              "                              0\n",
              "Test statistic         1.349627\n",
              "Critical Z (two-tail)  1.959964\n",
              "p-value (two-tail)     0.177136\n",
              "Critical Z (one-tail)  1.644854\n",
              "p-value (one-tail)     0.088568\n",
              "alpha                  0.050000"
            ]
          },
          "execution_count": 11,
          "metadata": {},
          "output_type": "execute_result"
        }
      ],
      "source": [
        "# Z-test example\n",
        "Y1 = [16.03,16.04,16.05,16.05,16.02,16.01,15.96,15.98,16.02,15.99]\n",
        "Y2 = [16.02,15.97,15.96,16.01,15.99,16.03,16.04,16.02,16.01,16]\n",
        "var1 = 0.000225 \n",
        "var2 = 0.000324 \n",
        "alpha = 0.05\n",
        "ZTest(Y1, Y2, var1, var2, alpha)"
      ]
    },
    {
      "cell_type": "markdown",
      "metadata": {
        "id": "z4o6XzY9ZJ3D"
      },
      "source": [
        "## Thank you"
      ]
    }
  ],
  "metadata": {
    "kernelspec": {
      "display_name": "Python 3",
      "language": "python",
      "name": "python3"
    },
    "language_info": {
      "codemirror_mode": {
        "name": "ipython",
        "version": 3
      },
      "file_extension": ".py",
      "mimetype": "text/x-python",
      "name": "python",
      "nbconvert_exporter": "python",
      "pygments_lexer": "ipython3",
      "version": "3.7.3"
    },
    "colab": {
      "provenance": [],
      "include_colab_link": true
    }
  },
  "nbformat": 4,
  "nbformat_minor": 0
}