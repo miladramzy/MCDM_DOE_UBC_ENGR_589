{
  "cells": [
    {
      "cell_type": "markdown",
      "metadata": {
        "id": "view-in-github",
        "colab_type": "text"
      },
      "source": [
        "<a href=\"https://colab.research.google.com/github/miladramzy/MCDM_DOE_UBC_ENGR_589/blob/main/Lab_3_Factorial_design_Regression.ipynb\" target=\"_parent\"><img src=\"https://colab.research.google.com/assets/colab-badge.svg\" alt=\"Open In Colab\"/></a>"
      ]
    },
    {
      "cell_type": "markdown",
      "metadata": {
        "id": "TJY0tcUFQuno"
      },
      "source": [
        "# ENGR 489/589\n",
        "### School of Engineering - Okanagan Campus\n",
        "### By Milad Ramezankhani, Dr. Abbas Milani\n",
        "#### milad.ramezankhani@ubc.ca | https://miladramzy.github.io/\n",
        "## Lab 3 - Factorial Design\n",
        "\n",
        "### Content:\n",
        "\n",
        "* 2^3 Factorial - ANOVA\n",
        "* Regression\n",
        "* Residual Analysis\n",
        "* 2^2 Factorial - ANOVA"
      ]
    },
    {
      "cell_type": "markdown",
      "metadata": {
        "id": "eKpK-OD8Qunp"
      },
      "source": [
        "### A) 2^3 Factorial - ANOVA"
      ]
    },
    {
      "cell_type": "code",
      "execution_count": null,
      "metadata": {
        "id": "BnTAKZOyQunp",
        "outputId": "aef480b2-3fb4-48d9-e410-f991ab1a671c"
      },
      "outputs": [
        {
          "data": {
            "text/html": [
              "<div>\n",
              "<style scoped>\n",
              "    .dataframe tbody tr th:only-of-type {\n",
              "        vertical-align: middle;\n",
              "    }\n",
              "\n",
              "    .dataframe tbody tr th {\n",
              "        vertical-align: top;\n",
              "    }\n",
              "\n",
              "    .dataframe thead th {\n",
              "        text-align: right;\n",
              "    }\n",
              "</style>\n",
              "<table border=\"1\" class=\"dataframe\">\n",
              "  <thead>\n",
              "    <tr style=\"text-align: right;\">\n",
              "      <th></th>\n",
              "      <th>df</th>\n",
              "      <th>sum_sq</th>\n",
              "      <th>mean_sq</th>\n",
              "      <th>F</th>\n",
              "      <th>PR(&gt;F)</th>\n",
              "    </tr>\n",
              "  </thead>\n",
              "  <tbody>\n",
              "    <tr>\n",
              "      <th>A</th>\n",
              "      <td>1.0</td>\n",
              "      <td>0.666667</td>\n",
              "      <td>0.666667</td>\n",
              "      <td>0.022099</td>\n",
              "      <td>0.883680</td>\n",
              "    </tr>\n",
              "    <tr>\n",
              "      <th>B</th>\n",
              "      <td>1.0</td>\n",
              "      <td>770.666667</td>\n",
              "      <td>770.666667</td>\n",
              "      <td>25.546961</td>\n",
              "      <td>0.000117</td>\n",
              "    </tr>\n",
              "    <tr>\n",
              "      <th>D</th>\n",
              "      <td>1.0</td>\n",
              "      <td>280.166667</td>\n",
              "      <td>280.166667</td>\n",
              "      <td>9.287293</td>\n",
              "      <td>0.007679</td>\n",
              "    </tr>\n",
              "    <tr>\n",
              "      <th>A:B</th>\n",
              "      <td>1.0</td>\n",
              "      <td>16.666667</td>\n",
              "      <td>16.666667</td>\n",
              "      <td>0.552486</td>\n",
              "      <td>0.468078</td>\n",
              "    </tr>\n",
              "    <tr>\n",
              "      <th>B:D</th>\n",
              "      <td>1.0</td>\n",
              "      <td>48.166667</td>\n",
              "      <td>48.166667</td>\n",
              "      <td>1.596685</td>\n",
              "      <td>0.224475</td>\n",
              "    </tr>\n",
              "    <tr>\n",
              "      <th>A:D</th>\n",
              "      <td>1.0</td>\n",
              "      <td>468.166667</td>\n",
              "      <td>468.166667</td>\n",
              "      <td>15.519337</td>\n",
              "      <td>0.001172</td>\n",
              "    </tr>\n",
              "    <tr>\n",
              "      <th>A:B:D</th>\n",
              "      <td>1.0</td>\n",
              "      <td>28.166667</td>\n",
              "      <td>28.166667</td>\n",
              "      <td>0.933702</td>\n",
              "      <td>0.348282</td>\n",
              "    </tr>\n",
              "    <tr>\n",
              "      <th>Residual</th>\n",
              "      <td>16.0</td>\n",
              "      <td>482.666667</td>\n",
              "      <td>30.166667</td>\n",
              "      <td>NaN</td>\n",
              "      <td>NaN</td>\n",
              "    </tr>\n",
              "  </tbody>\n",
              "</table>\n",
              "</div>"
            ],
            "text/plain": [
              "            df      sum_sq     mean_sq          F    PR(>F)\n",
              "A          1.0    0.666667    0.666667   0.022099  0.883680\n",
              "B          1.0  770.666667  770.666667  25.546961  0.000117\n",
              "D          1.0  280.166667  280.166667   9.287293  0.007679\n",
              "A:B        1.0   16.666667   16.666667   0.552486  0.468078\n",
              "B:D        1.0   48.166667   48.166667   1.596685  0.224475\n",
              "A:D        1.0  468.166667  468.166667  15.519337  0.001172\n",
              "A:B:D      1.0   28.166667   28.166667   0.933702  0.348282\n",
              "Residual  16.0  482.666667   30.166667        NaN       NaN"
            ]
          },
          "execution_count": 7,
          "metadata": {},
          "output_type": "execute_result"
        }
      ],
      "source": [
        "## 2^3 Factorial design\n",
        "\n",
        "# 1. Import libraries\n",
        "import statsmodels.api as sm\n",
        "from statsmodels.formula.api import ols \n",
        "import scipy.stats as stats\n",
        "import pandas as pd\n",
        "\n",
        "# 2. Load data \n",
        "### NOTE1: Follow the tempelate (Lab3_ENGR_489_589_Data.csv) for preparing your dataset.\n",
        "data = pd.read_csv('Lab3_ENGR_489_589_Data.csv')\n",
        "data.columns = ['A', 'B', 'D', 'Observation']\n",
        "\n",
        "# 3. Perform ANOVA using Ordinary least squares (OLS) regression\n",
        "\n",
        "result = ols('Observation ~ A + B + D + A:B + B:D + A:D + A:B:D', data = data).fit()\n",
        "aov_table = sm.stats.anova_lm(result, typ=1)\n",
        "aov_table"
      ]
    },
    {
      "cell_type": "markdown",
      "metadata": {
        "id": "r6H4Y1khQunq"
      },
      "source": [
        "### B) Regression"
      ]
    },
    {
      "cell_type": "code",
      "execution_count": null,
      "metadata": {
        "id": "fkWvx_irQunq",
        "outputId": "6c8f4960-cbf4-473d-85c5-c7840322d9dd"
      },
      "outputs": [
        {
          "data": {
            "text/html": [
              "<table class=\"simpletable\">\n",
              "<caption>OLS Regression Results</caption>\n",
              "<tr>\n",
              "  <th>Dep. Variable:</th>       <td>Observation</td>   <th>  R-squared:         </th> <td>   0.770</td>\n",
              "</tr>\n",
              "<tr>\n",
              "  <th>Model:</th>                   <td>OLS</td>       <th>  Adj. R-squared:    </th> <td>   0.669</td>\n",
              "</tr>\n",
              "<tr>\n",
              "  <th>Method:</th>             <td>Least Squares</td>  <th>  F-statistic:       </th> <td>   7.637</td>\n",
              "</tr>\n",
              "<tr>\n",
              "  <th>Date:</th>             <td>Sat, 30 Oct 2021</td> <th>  Prob (F-statistic):</th> <td>0.000398</td>\n",
              "</tr>\n",
              "<tr>\n",
              "  <th>Time:</th>                 <td>18:17:35</td>     <th>  Log-Likelihood:    </th> <td> -70.070</td>\n",
              "</tr>\n",
              "<tr>\n",
              "  <th>No. Observations:</th>      <td>    24</td>      <th>  AIC:               </th> <td>   156.1</td>\n",
              "</tr>\n",
              "<tr>\n",
              "  <th>Df Residuals:</th>          <td>    16</td>      <th>  BIC:               </th> <td>   165.6</td>\n",
              "</tr>\n",
              "<tr>\n",
              "  <th>Df Model:</th>              <td>     7</td>      <th>                     </th>     <td> </td>   \n",
              "</tr>\n",
              "<tr>\n",
              "  <th>Covariance Type:</th>      <td>nonrobust</td>    <th>                     </th>     <td> </td>   \n",
              "</tr>\n",
              "</table>\n",
              "<table class=\"simpletable\">\n",
              "<tr>\n",
              "      <td></td>         <th>coef</th>     <th>std err</th>      <th>t</th>      <th>P>|t|</th>  <th>[0.025</th>    <th>0.975]</th>  \n",
              "</tr>\n",
              "<tr>\n",
              "  <th>Intercept</th> <td>   40.8333</td> <td>    1.121</td> <td>   36.421</td> <td> 0.000</td> <td>   38.457</td> <td>   43.210</td>\n",
              "</tr>\n",
              "<tr>\n",
              "  <th>A</th>         <td>    0.1667</td> <td>    1.121</td> <td>    0.149</td> <td> 0.884</td> <td>   -2.210</td> <td>    2.543</td>\n",
              "</tr>\n",
              "<tr>\n",
              "  <th>B</th>         <td>    5.6667</td> <td>    1.121</td> <td>    5.054</td> <td> 0.000</td> <td>    3.290</td> <td>    8.043</td>\n",
              "</tr>\n",
              "<tr>\n",
              "  <th>D</th>         <td>    3.4167</td> <td>    1.121</td> <td>    3.048</td> <td> 0.008</td> <td>    1.040</td> <td>    5.793</td>\n",
              "</tr>\n",
              "<tr>\n",
              "  <th>A:B</th>       <td>   -0.8333</td> <td>    1.121</td> <td>   -0.743</td> <td> 0.468</td> <td>   -3.210</td> <td>    1.543</td>\n",
              "</tr>\n",
              "<tr>\n",
              "  <th>B:D</th>       <td>   -1.4167</td> <td>    1.121</td> <td>   -1.264</td> <td> 0.224</td> <td>   -3.793</td> <td>    0.960</td>\n",
              "</tr>\n",
              "<tr>\n",
              "  <th>A:D</th>       <td>   -4.4167</td> <td>    1.121</td> <td>   -3.939</td> <td> 0.001</td> <td>   -6.793</td> <td>   -2.040</td>\n",
              "</tr>\n",
              "<tr>\n",
              "  <th>A:B:D</th>     <td>   -1.0833</td> <td>    1.121</td> <td>   -0.966</td> <td> 0.348</td> <td>   -3.460</td> <td>    1.293</td>\n",
              "</tr>\n",
              "</table>\n",
              "<table class=\"simpletable\">\n",
              "<tr>\n",
              "  <th>Omnibus:</th>       <td> 2.520</td> <th>  Durbin-Watson:     </th> <td>   2.209</td>\n",
              "</tr>\n",
              "<tr>\n",
              "  <th>Prob(Omnibus):</th> <td> 0.284</td> <th>  Jarque-Bera (JB):  </th> <td>   2.170</td>\n",
              "</tr>\n",
              "<tr>\n",
              "  <th>Skew:</th>          <td> 0.671</td> <th>  Prob(JB):          </th> <td>   0.338</td>\n",
              "</tr>\n",
              "<tr>\n",
              "  <th>Kurtosis:</th>      <td> 2.391</td> <th>  Cond. No.          </th> <td>    1.00</td>\n",
              "</tr>\n",
              "</table><br/><br/>Notes:<br/>[1] Standard Errors assume that the covariance matrix of the errors is correctly specified."
            ],
            "text/plain": [
              "<class 'statsmodels.iolib.summary.Summary'>\n",
              "\"\"\"\n",
              "                            OLS Regression Results                            \n",
              "==============================================================================\n",
              "Dep. Variable:            Observation   R-squared:                       0.770\n",
              "Model:                            OLS   Adj. R-squared:                  0.669\n",
              "Method:                 Least Squares   F-statistic:                     7.637\n",
              "Date:                Sat, 30 Oct 2021   Prob (F-statistic):           0.000398\n",
              "Time:                        18:17:35   Log-Likelihood:                -70.070\n",
              "No. Observations:                  24   AIC:                             156.1\n",
              "Df Residuals:                      16   BIC:                             165.6\n",
              "Df Model:                           7                                         \n",
              "Covariance Type:            nonrobust                                         \n",
              "==============================================================================\n",
              "                 coef    std err          t      P>|t|      [0.025      0.975]\n",
              "------------------------------------------------------------------------------\n",
              "Intercept     40.8333      1.121     36.421      0.000      38.457      43.210\n",
              "A              0.1667      1.121      0.149      0.884      -2.210       2.543\n",
              "B              5.6667      1.121      5.054      0.000       3.290       8.043\n",
              "D              3.4167      1.121      3.048      0.008       1.040       5.793\n",
              "A:B           -0.8333      1.121     -0.743      0.468      -3.210       1.543\n",
              "B:D           -1.4167      1.121     -1.264      0.224      -3.793       0.960\n",
              "A:D           -4.4167      1.121     -3.939      0.001      -6.793      -2.040\n",
              "A:B:D         -1.0833      1.121     -0.966      0.348      -3.460       1.293\n",
              "==============================================================================\n",
              "Omnibus:                        2.520   Durbin-Watson:                   2.209\n",
              "Prob(Omnibus):                  0.284   Jarque-Bera (JB):                2.170\n",
              "Skew:                           0.671   Prob(JB):                        0.338\n",
              "Kurtosis:                       2.391   Cond. No.                         1.00\n",
              "==============================================================================\n",
              "\n",
              "Notes:\n",
              "[1] Standard Errors assume that the covariance matrix of the errors is correctly specified.\n",
              "\"\"\""
            ]
          },
          "execution_count": 8,
          "metadata": {},
          "output_type": "execute_result"
        }
      ],
      "source": [
        "## Regression\n",
        "result = ols('Observation ~ A + B + D + A:B + B:D + A:D + A:B:D', data = data).fit()\n",
        "result.summary()"
      ]
    },
    {
      "cell_type": "markdown",
      "metadata": {
        "id": "lq7OSdjfQunq"
      },
      "source": [
        "### C) Residual Analysis"
      ]
    },
    {
      "cell_type": "code",
      "execution_count": null,
      "metadata": {
        "id": "Tb9x2MLjQunr",
        "outputId": "bea5e63f-d5c1-4900-9727-0648f7cf4fb6"
      },
      "outputs": [
        {
          "data": {
            "image/png": "[encoded data removed]",
            "text/plain": [
              "<Figure size 432x288 with 1 Axes>"
            ]
          },
          "metadata": {
            "needs_background": "light"
          },
          "output_type": "display_data"
        },
        {
          "data": {
            "image/png": "[encoded data removed]",
            "text/plain": [
              "<Figure size 432x288 with 1 Axes>"
            ]
          },
          "metadata": {
            "needs_background": "light"
          },
          "output_type": "display_data"
        }
      ],
      "source": [
        "#Residual Analysis\n",
        "\n",
        "# 1. import matplotlib\n",
        "from matplotlib import pyplot as plt\n",
        "%matplotlib inline\n",
        "\n",
        "# 2. Normal probability assumption\n",
        "residual = result.resid # gives residuals for regression\n",
        "stats.probplot(residual, fit=True, plot=plt)\n",
        "plt.show()\n",
        "\n",
        "# 3. Constant variance assumption\n",
        "predicted = result.fittedvalues # generates predicted values\n",
        "plt.scatter(predicted, residual, marker='^', c='green')\n",
        "plt.xlabel('Prediction')\n",
        "plt.ylabel('resuidual')\n",
        "plt.show()"
      ]
    },
    {
      "cell_type": "markdown",
      "metadata": {
        "id": "f3Ee0sJ4Qunr"
      },
      "source": [
        "### D) 2^2 Factorial - ANOVA"
      ]
    },
    {
      "cell_type": "code",
      "execution_count": null,
      "metadata": {
        "id": "ksTVGqVPQunr",
        "outputId": "e2265231-4026-47a6-c4c2-52d4a2c5a129"
      },
      "outputs": [
        {
          "data": {
            "text/html": [
              "<div>\n",
              "<style scoped>\n",
              "    .dataframe tbody tr th:only-of-type {\n",
              "        vertical-align: middle;\n",
              "    }\n",
              "\n",
              "    .dataframe tbody tr th {\n",
              "        vertical-align: top;\n",
              "    }\n",
              "\n",
              "    .dataframe thead th {\n",
              "        text-align: right;\n",
              "    }\n",
              "</style>\n",
              "<table border=\"1\" class=\"dataframe\">\n",
              "  <thead>\n",
              "    <tr style=\"text-align: right;\">\n",
              "      <th></th>\n",
              "      <th>df</th>\n",
              "      <th>sum_sq</th>\n",
              "      <th>mean_sq</th>\n",
              "      <th>F</th>\n",
              "      <th>PR(&gt;F)</th>\n",
              "    </tr>\n",
              "  </thead>\n",
              "  <tbody>\n",
              "    <tr>\n",
              "      <th>C(A)</th>\n",
              "      <td>1.0</td>\n",
              "      <td>0.666667</td>\n",
              "      <td>0.666667</td>\n",
              "      <td>0.010199</td>\n",
              "      <td>0.920564</td>\n",
              "    </tr>\n",
              "    <tr>\n",
              "      <th>C(B)</th>\n",
              "      <td>1.0</td>\n",
              "      <td>770.666667</td>\n",
              "      <td>770.666667</td>\n",
              "      <td>11.789903</td>\n",
              "      <td>0.002629</td>\n",
              "    </tr>\n",
              "    <tr>\n",
              "      <th>C(A):C(B)</th>\n",
              "      <td>1.0</td>\n",
              "      <td>16.666667</td>\n",
              "      <td>16.666667</td>\n",
              "      <td>0.254972</td>\n",
              "      <td>0.619114</td>\n",
              "    </tr>\n",
              "    <tr>\n",
              "      <th>Residual</th>\n",
              "      <td>20.0</td>\n",
              "      <td>1307.333333</td>\n",
              "      <td>65.366667</td>\n",
              "      <td>NaN</td>\n",
              "      <td>NaN</td>\n",
              "    </tr>\n",
              "  </tbody>\n",
              "</table>\n",
              "</div>"
            ],
            "text/plain": [
              "             df       sum_sq     mean_sq          F    PR(>F)\n",
              "C(A)        1.0     0.666667    0.666667   0.010199  0.920564\n",
              "C(B)        1.0   770.666667  770.666667  11.789903  0.002629\n",
              "C(A):C(B)   1.0    16.666667   16.666667   0.254972  0.619114\n",
              "Residual   20.0  1307.333333   65.366667        NaN       NaN"
            ]
          },
          "execution_count": 66,
          "metadata": {},
          "output_type": "execute_result"
        }
      ],
      "source": [
        "## 2^2 Factorial design\n",
        "\n",
        "# 1. Import libraries\n",
        "import statsmodels.api as sm\n",
        "from statsmodels.formula.api import ols \n",
        "import scipy.stats as stats\n",
        "import pandas as pd\n",
        "\n",
        "# 2. Load data \n",
        "### NOTE1: Follow the tempelate (Lab3_ENGR_489_589_Data.csv) for preparing your dataset.\n",
        "data_raw = pd.read_csv('Lab3_ENGR_489_589_Data.csv')\n",
        "data = data_raw[['A', 'B', 'Observation']]\n",
        "\n",
        "# 3. Perform ANOVA using Ordinary least squares (OLS) regression\n",
        "result = ols('Observation ~ A + B + A:B', data = data).fit()\n",
        "aov_table = sm.stats.anova_lm(result, typ=1)\n",
        "aov_table"
      ]
    },
    {
      "cell_type": "code",
      "execution_count": null,
      "metadata": {
        "id": "UDUTVq6mQunr"
      },
      "outputs": [],
      "source": [
        "|"
      ]
    }
  ],
  "metadata": {
    "kernelspec": {
      "display_name": "Python 3",
      "language": "python",
      "name": "python3"
    },
    "language_info": {
      "codemirror_mode": {
        "name": "ipython",
        "version": 3
      },
      "file_extension": ".py",
      "mimetype": "text/x-python",
      "name": "python",
      "nbconvert_exporter": "python",
      "pygments_lexer": "ipython3",
      "version": "3.7.3"
    },
    "colab": {
      "provenance": [],
      "include_colab_link": true
    }
  },
  "nbformat": 4,
  "nbformat_minor": 0
}