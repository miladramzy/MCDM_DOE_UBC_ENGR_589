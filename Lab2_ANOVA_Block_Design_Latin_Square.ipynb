{
  "cells": [
    {
      "cell_type": "markdown",
      "metadata": {
        "id": "view-in-github",
        "colab_type": "text"
      },
      "source": [
        "<a href=\"https://colab.research.google.com/github/miladramzy/MCDM_DOE_UBC_ENGR_589/blob/main/Lab2_ANOVA_Block_Design_Latin_Square.ipynb\" target=\"_parent\"><img src=\"https://colab.research.google.com/assets/colab-badge.svg\" alt=\"Open In Colab\"/></a>"
      ]
    },
    {
      "cell_type": "markdown",
      "metadata": {
        "id": "sEZADNZfIV1p"
      },
      "source": [
        "# ENGR 489/589\n",
        "### School of Engineering - Okanagan Campus\n",
        "### By Dr. Milad Ramezankhani, Dr. Abbas Milani\n",
        "#### milad.ramezankhani@ubc.ca | https://miladramzy.github.io/\n",
        "## Lab 2 - ANOVA - Block design - Lating Square\n",
        "\n",
        "### Content:\n",
        "\n",
        "* ANOVA\n",
        "    * one-way\n",
        "    * Block desgin\n",
        "* Latin Square"
      ]
    },
    {
      "cell_type": "code",
      "execution_count": null,
      "metadata": {
        "id": "_PwfPTOsIV1s"
      },
      "outputs": [],
      "source": [
        "# Import necessary libraries\n",
        "import scipy.stats as stats\n",
        "import pandas as pd\n",
        "import numpy as np\n",
        "import scipy.stats"
      ]
    },
    {
      "cell_type": "code",
      "execution_count": null,
      "metadata": {
        "id": "JxaeBumbIV1u"
      },
      "outputs": [],
      "source": [
        "# Template list for providing the experiment data\n",
        "# Rows: Treatment (main factor)\n",
        "# Columns: Observation repeats\n",
        "data = [[],\n",
        "        [],\n",
        "        [],\n",
        "        []]"
      ]
    },
    {
      "cell_type": "code",
      "execution_count": null,
      "metadata": {
        "id": "yHil88_cIV1u"
      },
      "outputs": [],
      "source": [
        "data = [[575,542,530,539,570],\n",
        "        [565,593,590,579,610],\n",
        "        [600,651,610,637,629],\n",
        "        [725,700,715,685,710]]"
      ]
    },
    {
      "cell_type": "markdown",
      "metadata": {
        "id": "8T7EyNg_IV1v"
      },
      "source": [
        "##   \n",
        "## ANOVA"
      ]
    },
    {
      "cell_type": "code",
      "execution_count": null,
      "metadata": {
        "id": "GYuXnwCaIV1v",
        "outputId": "6dfb53ba-50e2-440f-cf95-65162bf219d3"
      },
      "outputs": [
        {
          "data": {
            "text/plain": [
              "F_onewayResult(statistic=66.79707321945864, pvalue=2.882865908493268e-09)"
            ]
          },
          "execution_count": 4,
          "metadata": {},
          "output_type": "execute_result"
        }
      ],
      "source": [
        "# Method 1: Using Scipy library (manual, not recommended)\n",
        "stats.f_oneway(data[0], data[1], data[2], data[3])"
      ]
    },
    {
      "cell_type": "code",
      "execution_count": null,
      "metadata": {
        "id": "esSqMBGmIV1w"
      },
      "outputs": [],
      "source": [
        "# Method 2: Manual Calculation (full ANOVA table)\n",
        "def Anova_OneWay(data, alpha, Blocks = False):\n",
        "\n",
        "    data = np.array(data)\n",
        "    no_of_treatments = data.shape[0] # number of rows\n",
        "    blocks = data.shape[1] # number of columns\n",
        "    sum_total = np.sum(data) # Total sum\n",
        "\n",
        "    # Sum of squares\n",
        "    bias = (sum_total**2)/(no_of_treatments*blocks) # sum of squares of all observations divided by sample size\n",
        "    ss_total = np.sum(np.square(data))-bias # Total SS\n",
        "    ss_treatments = np.sum(np.square(np.sum(data, axis=1)))/blocks-bias # Treatment SS\n",
        "    if Blocks:\n",
        "        ss_blocks = np.sum(np.square(np.sum(data, axis=0)))/no_of_treatments-bias # Block SS\n",
        "    else:\n",
        "        ss_blocks = 0\n",
        "    ss_error = ss_total - ss_treatments-ss_blocks ## Error SS\n",
        "\n",
        "    # Degrees of freedom\n",
        "    df_total = no_of_treatments*blocks-1 # Total dof\n",
        "    df_treatments = no_of_treatments - 1 # Treatment dof\n",
        "    if Blocks:\n",
        "        df_blocks = blocks - 1 # Block dof\n",
        "    else:\n",
        "        df_blocks = 0\n",
        "    df_error = df_total - df_treatments - df_blocks # Error dof\n",
        "\n",
        "    # Mean squares\n",
        "    ms_treatments = ss_treatments/df_treatments # Treatment MS\n",
        "    if Blocks:\n",
        "        ms_blocks = ss_blocks/df_blocks # Block MS\n",
        "    else:\n",
        "        ms_blocks = 0\n",
        "    ms_error = ss_error/df_error # Error MS\n",
        "\n",
        "    # F and p-value\n",
        "    F_treatments = ms_treatments/ms_error # Treatment F_0\n",
        "    F_crt_onetail = stats.f.ppf(1-alpha, df_treatments,df_error) # Treatment critical F\n",
        "    p_value_treatments = 1-scipy.stats.f.cdf(F_treatments, dfn=df_treatments, dfd=df_error) # Treatment P-value\n",
        "\n",
        "    if Blocks:\n",
        "        F_blocks = ms_blocks/ms_error # Block F_0\n",
        "        Fcrt_blocks = stats.f.ppf(1-alpha, df_blocks,df_error) # Block critical F\n",
        "        p_value_blocks = 1-scipy.stats.f.cdf(F_blocks, dfn=df_blocks, dfd=df_error) # Block P-value\n",
        "    else:\n",
        "        F_blocks, Fcrt_blocks, p_value_blocks = [0,0,0]\n",
        "\n",
        "\n",
        "    df = pd.DataFrame([[ss_treatments, df_treatments, ms_treatments, F_treatments, p_value_treatments, F_crt_onetail],\n",
        "                       [ss_blocks, df_blocks, ms_blocks, F_blocks, p_value_blocks, Fcrt_blocks],\n",
        "                       [ss_error, df_error, ms_error, np.nan, np.nan, np.nan],\n",
        "                       [ss_total, df_total, np.nan, np.nan, np.nan, np.nan]], columns = ['SS', 'df', 'MS', 'F', 'P-value', 'F crit'],\n",
        "                     index = ['Treatment', 'Block', 'Error', 'Total'])\n",
        "    return df"
      ]
    },
    {
      "cell_type": "code",
      "execution_count": null,
      "metadata": {
        "id": "gaiE9iz-IV1z",
        "outputId": "5c17e66d-1170-4bbc-a990-695d91a0d582"
      },
      "outputs": [
        {
          "data": {
            "text/html": [
              "<div>\n",
              "<style scoped>\n",
              "    .dataframe tbody tr th:only-of-type {\n",
              "        vertical-align: middle;\n",
              "    }\n",
              "\n",
              "    .dataframe tbody tr th {\n",
              "        vertical-align: top;\n",
              "    }\n",
              "\n",
              "    .dataframe thead th {\n",
              "        text-align: right;\n",
              "    }\n",
              "</style>\n",
              "<table border=\"1\" class=\"dataframe\">\n",
              "  <thead>\n",
              "    <tr style=\"text-align: right;\">\n",
              "      <th></th>\n",
              "      <th>SS</th>\n",
              "      <th>df</th>\n",
              "      <th>MS</th>\n",
              "      <th>F</th>\n",
              "      <th>P-value</th>\n",
              "      <th>F crit</th>\n",
              "    </tr>\n",
              "  </thead>\n",
              "  <tbody>\n",
              "    <tr>\n",
              "      <th>Treatment</th>\n",
              "      <td>66870.55</td>\n",
              "      <td>3</td>\n",
              "      <td>22290.183333</td>\n",
              "      <td>66.797073</td>\n",
              "      <td>2.882866e-09</td>\n",
              "      <td>3.238872</td>\n",
              "    </tr>\n",
              "    <tr>\n",
              "      <th>Block</th>\n",
              "      <td>0.00</td>\n",
              "      <td>0</td>\n",
              "      <td>0.000000</td>\n",
              "      <td>0.000000</td>\n",
              "      <td>0.000000e+00</td>\n",
              "      <td>0.000000</td>\n",
              "    </tr>\n",
              "    <tr>\n",
              "      <th>Error</th>\n",
              "      <td>5339.20</td>\n",
              "      <td>16</td>\n",
              "      <td>333.700000</td>\n",
              "      <td>NaN</td>\n",
              "      <td>NaN</td>\n",
              "      <td>NaN</td>\n",
              "    </tr>\n",
              "    <tr>\n",
              "      <th>Total</th>\n",
              "      <td>72209.75</td>\n",
              "      <td>19</td>\n",
              "      <td>NaN</td>\n",
              "      <td>NaN</td>\n",
              "      <td>NaN</td>\n",
              "      <td>NaN</td>\n",
              "    </tr>\n",
              "  </tbody>\n",
              "</table>\n",
              "</div>"
            ],
            "text/plain": [
              "                 SS  df            MS          F       P-value    F crit\n",
              "Treatment  66870.55   3  22290.183333  66.797073  2.882866e-09  3.238872\n",
              "Block          0.00   0      0.000000   0.000000  0.000000e+00  0.000000\n",
              "Error       5339.20  16    333.700000        NaN           NaN       NaN\n",
              "Total      72209.75  19           NaN        NaN           NaN       NaN"
            ]
          },
          "execution_count": 8,
          "metadata": {},
          "output_type": "execute_result"
        }
      ],
      "source": [
        "# Example 1: One-way ANOVA\n",
        "data = [[575,542,530,539,570],\n",
        "        [565,593,590,579,610],\n",
        "        [600,651,610,637,629],\n",
        "        [725,700,715,685,710]]\n",
        "alpha = 0.05\n",
        "Anova_OneWay(data, alpha, Blocks = False)"
      ]
    },
    {
      "cell_type": "code",
      "execution_count": null,
      "metadata": {
        "id": "-oX9St3nIV1z",
        "outputId": "c9722948-5732-4251-963d-3429e4c29c4d"
      },
      "outputs": [
        {
          "data": {
            "text/html": [
              "<div>\n",
              "<style scoped>\n",
              "    .dataframe tbody tr th:only-of-type {\n",
              "        vertical-align: middle;\n",
              "    }\n",
              "\n",
              "    .dataframe tbody tr th {\n",
              "        vertical-align: top;\n",
              "    }\n",
              "\n",
              "    .dataframe thead th {\n",
              "        text-align: right;\n",
              "    }\n",
              "</style>\n",
              "<table border=\"1\" class=\"dataframe\">\n",
              "  <thead>\n",
              "    <tr style=\"text-align: right;\">\n",
              "      <th></th>\n",
              "      <th>SS</th>\n",
              "      <th>df</th>\n",
              "      <th>MS</th>\n",
              "      <th>F</th>\n",
              "      <th>P-value</th>\n",
              "      <th>F crit</th>\n",
              "    </tr>\n",
              "  </thead>\n",
              "  <tbody>\n",
              "    <tr>\n",
              "      <th>Treatment</th>\n",
              "      <td>66870.55</td>\n",
              "      <td>3</td>\n",
              "      <td>22290.183333</td>\n",
              "      <td>62.369063</td>\n",
              "      <td>1.368674e-07</td>\n",
              "      <td>3.490295</td>\n",
              "    </tr>\n",
              "    <tr>\n",
              "      <th>Block</th>\n",
              "      <td>1050.50</td>\n",
              "      <td>4</td>\n",
              "      <td>262.625000</td>\n",
              "      <td>0.734838</td>\n",
              "      <td>5.856737e-01</td>\n",
              "      <td>3.259167</td>\n",
              "    </tr>\n",
              "    <tr>\n",
              "      <th>Error</th>\n",
              "      <td>4288.70</td>\n",
              "      <td>12</td>\n",
              "      <td>357.391667</td>\n",
              "      <td>NaN</td>\n",
              "      <td>NaN</td>\n",
              "      <td>NaN</td>\n",
              "    </tr>\n",
              "    <tr>\n",
              "      <th>Total</th>\n",
              "      <td>72209.75</td>\n",
              "      <td>19</td>\n",
              "      <td>NaN</td>\n",
              "      <td>NaN</td>\n",
              "      <td>NaN</td>\n",
              "      <td>NaN</td>\n",
              "    </tr>\n",
              "  </tbody>\n",
              "</table>\n",
              "</div>"
            ],
            "text/plain": [
              "                 SS  df            MS          F       P-value    F crit\n",
              "Treatment  66870.55   3  22290.183333  62.369063  1.368674e-07  3.490295\n",
              "Block       1050.50   4    262.625000   0.734838  5.856737e-01  3.259167\n",
              "Error       4288.70  12    357.391667        NaN           NaN       NaN\n",
              "Total      72209.75  19           NaN        NaN           NaN       NaN"
            ]
          },
          "execution_count": 9,
          "metadata": {},
          "output_type": "execute_result"
        }
      ],
      "source": [
        "# Example 1: One-way ANOVA with blocking design\n",
        "data = [[575,542,530,539,570],\n",
        "        [565,593,590,579,610],\n",
        "        [600,651,610,637,629],\n",
        "        [725,700,715,685,710]]\n",
        "alpha = 0.05\n",
        "Anova_OneWay(data, alpha, Blocks = True)"
      ]
    },
    {
      "cell_type": "markdown",
      "metadata": {
        "id": "IrzrJAz2IV10"
      },
      "source": [
        "##   \n",
        "## Latin Square  "
      ]
    },
    {
      "cell_type": "code",
      "execution_count": null,
      "metadata": {
        "id": "0Q8cR6CTIV10"
      },
      "outputs": [],
      "source": [
        "def LatinSquare(data, data_sorted, alpha):\n",
        "    data = np.array(data)\n",
        "    rows = data.shape[0]\n",
        "    sum_total = np.sum(data)\n",
        "\n",
        "    # Sum of squaares\n",
        "    bias = (sum_total**2)/(rows**2)\n",
        "    ss_total = np.sum(np.square(data))-bias\n",
        "    ss_treatment = np.sum(np.square(np.sum(data_sorted, axis=1)))/rows - bias\n",
        "    ss_nuisance1 = np.sum(np.square(np.sum(data, axis=1)))/rows - bias\n",
        "    ss_nuisance2 = np.sum(np.square(np.sum(data, axis=0)))/rows - bias\n",
        "    ss_error = ss_total - (ss_treatment + ss_nuisance1 + ss_nuisance2)\n",
        "\n",
        "    # degree of freedom\n",
        "    df_total = rows**2 - 1\n",
        "    df_treatment = rows - 1\n",
        "    df_nuisance1 = rows - 1\n",
        "    df_nuisance2 = rows - 1\n",
        "    df_error = (rows - 2)*(rows - 1)\n",
        "\n",
        "    # Mean squares\n",
        "    ms_treatment = ss_treatment/df_treatment\n",
        "    ms_nuisance1 = ss_nuisance1/df_nuisance1\n",
        "    ms_nuisance2 = ss_nuisance2/df_nuisance2\n",
        "    ms_error = ss_error/df_error\n",
        "\n",
        "    # F and P-values\n",
        "    F_treatment = ms_treatment/ms_error\n",
        "    F_critical = stats.f.ppf(1-alpha, df_treatment,df_error) # Treatment critical F\n",
        "    p_value_treatments = 1-scipy.stats.f.cdf(F_treatment, df_treatment, df_error)\n",
        "\n",
        "    F_nuisance1 = ms_nuisance1/ms_error\n",
        "    Fcritical_n1 = stats.f.ppf(1-alpha, df_nuisance1,df_error)\n",
        "    p_value_n1 = 1-scipy.stats.f.cdf(F_nuisance1, df_nuisance1, df_error)\n",
        "\n",
        "    F_nuisance2 = ms_nuisance2/ms_error\n",
        "    Fcritical_n2 = stats.f.ppf(1-alpha, df_nuisance2,df_error)\n",
        "    p_value_n2 = 1-scipy.stats.f.cdf(F_nuisance2, df_nuisance1, df_error)\n",
        "\n",
        "\n",
        "    df = pd.DataFrame([[ss_treatment, df_treatment, ms_treatment, F_treatment, p_value_treatments, F_critical],\n",
        "                       [ss_nuisance1, df_nuisance1, ms_nuisance1, F_nuisance1, p_value_n1, Fcritical_n1],\n",
        "                       [ss_nuisance2, df_nuisance2, ms_nuisance2, F_nuisance2, p_value_n2, Fcritical_n2],\n",
        "                       [ss_error, df_error, ms_error, np.nan, np.nan, np.nan],\n",
        "                       [ss_total, df_total, np.nan, np.nan, np.nan, np.nan]], columns = ['SS', 'df', 'MS', 'F', 'P-value', 'F crit'],\n",
        "                     index = ['Treatment', 'Nuisance 1', 'Nuisance 2', 'Error', 'Total'])\n",
        "    \n",
        "    return df"
      ]
    },
    {
      "cell_type": "code",
      "execution_count": null,
      "metadata": {
        "id": "bBCWArsdIV10",
        "outputId": "f6853075-cb89-47ae-ef0b-2f00c366d08b"
      },
      "outputs": [
        {
          "data": {
            "text/html": [
              "<div>\n",
              "<style scoped>\n",
              "    .dataframe tbody tr th:only-of-type {\n",
              "        vertical-align: middle;\n",
              "    }\n",
              "\n",
              "    .dataframe tbody tr th {\n",
              "        vertical-align: top;\n",
              "    }\n",
              "\n",
              "    .dataframe thead th {\n",
              "        text-align: right;\n",
              "    }\n",
              "</style>\n",
              "<table border=\"1\" class=\"dataframe\">\n",
              "  <thead>\n",
              "    <tr style=\"text-align: right;\">\n",
              "      <th></th>\n",
              "      <th>SS</th>\n",
              "      <th>df</th>\n",
              "      <th>MS</th>\n",
              "      <th>F</th>\n",
              "      <th>P-value</th>\n",
              "      <th>F crit</th>\n",
              "    </tr>\n",
              "  </thead>\n",
              "  <tbody>\n",
              "    <tr>\n",
              "      <th>Treatment</th>\n",
              "      <td>200.666667</td>\n",
              "      <td>2</td>\n",
              "      <td>100.333333</td>\n",
              "      <td>25.083333</td>\n",
              "      <td>0.038339</td>\n",
              "      <td>19.0</td>\n",
              "    </tr>\n",
              "    <tr>\n",
              "      <th>Nuisance 1</th>\n",
              "      <td>60.666667</td>\n",
              "      <td>2</td>\n",
              "      <td>30.333333</td>\n",
              "      <td>7.583333</td>\n",
              "      <td>0.116505</td>\n",
              "      <td>19.0</td>\n",
              "    </tr>\n",
              "    <tr>\n",
              "      <th>Nuisance 2</th>\n",
              "      <td>92.666667</td>\n",
              "      <td>2</td>\n",
              "      <td>46.333333</td>\n",
              "      <td>11.583333</td>\n",
              "      <td>0.079470</td>\n",
              "      <td>19.0</td>\n",
              "    </tr>\n",
              "    <tr>\n",
              "      <th>Error</th>\n",
              "      <td>8.000000</td>\n",
              "      <td>2</td>\n",
              "      <td>4.000000</td>\n",
              "      <td>NaN</td>\n",
              "      <td>NaN</td>\n",
              "      <td>NaN</td>\n",
              "    </tr>\n",
              "    <tr>\n",
              "      <th>Total</th>\n",
              "      <td>362.000000</td>\n",
              "      <td>8</td>\n",
              "      <td>NaN</td>\n",
              "      <td>NaN</td>\n",
              "      <td>NaN</td>\n",
              "      <td>NaN</td>\n",
              "    </tr>\n",
              "  </tbody>\n",
              "</table>\n",
              "</div>"
            ],
            "text/plain": [
              "                    SS  df          MS          F   P-value  F crit\n",
              "Treatment   200.666667   2  100.333333  25.083333  0.038339    19.0\n",
              "Nuisance 1   60.666667   2   30.333333   7.583333  0.116505    19.0\n",
              "Nuisance 2   92.666667   2   46.333333  11.583333  0.079470    19.0\n",
              "Error         8.000000   2    4.000000        NaN       NaN     NaN\n",
              "Total       362.000000   8         NaN        NaN       NaN     NaN"
            ]
          },
          "execution_count": 3,
          "metadata": {},
          "output_type": "execute_result"
        }
      ],
      "source": [
        "data = [[24,20,19],\n",
        "        [17,24,30],\n",
        "        [18,38,26]]\n",
        "# Data_sorted example: \n",
        "#[[A,A,A],\n",
        "# [B,B,B],\n",
        "# [C,C,C]]\n",
        "data_sorted = [[24,38,30],\n",
        "               [17,20,26],\n",
        "               [18,24,19]]\n",
        "alpha = 0.05\n",
        "LatinSquare(data, data_sorted, alpha)"
      ]
    },
    {
      "cell_type": "markdown",
      "metadata": {
        "id": "Ws5qkyDkIV11"
      },
      "source": [
        "## End of Lab 2"
      ]
    }
  ],
  "metadata": {
    "kernelspec": {
      "display_name": "Python 3",
      "language": "python",
      "name": "python3"
    },
    "language_info": {
      "codemirror_mode": {
        "name": "ipython",
        "version": 3
      },
      "file_extension": ".py",
      "mimetype": "text/x-python",
      "name": "python",
      "nbconvert_exporter": "python",
      "pygments_lexer": "ipython3",
      "version": "3.7.3"
    },
    "colab": {
      "provenance": [],
      "include_colab_link": true
    }
  },
  "nbformat": 4,
  "nbformat_minor": 0
}