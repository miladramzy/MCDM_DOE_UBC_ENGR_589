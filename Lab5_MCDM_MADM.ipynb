{
  "cells": [
    {
      "cell_type": "markdown",
      "metadata": {
        "id": "view-in-github",
        "colab_type": "text"
      },
      "source": [
        "<a href=\"https://colab.research.google.com/github/miladramzy/MCDM_DOE_UBC_ENGR_589/blob/main/Lab5_MCDM_MADM.ipynb\" target=\"_parent\"><img src=\"https://colab.research.google.com/assets/colab-badge.svg\" alt=\"Open In Colab\"/></a>"
      ]
    },
    {
      "cell_type": "markdown",
      "metadata": {
        "id": "_7NVUuf4OK30"
      },
      "source": [
        "# ENGR 489/589\n",
        "### School of Engineering - Okanagan Campus\n",
        "### By Milad Ramezankhani, Dr. Abbas Milani\n",
        "#### milad.ramezankhani@ubc.ca | https://miladramzy.github.io/\n",
        "## Lab 5 - MADM\n"
      ]
    },
    {
      "cell_type": "markdown",
      "metadata": {
        "id": "pp77M0lnOK34"
      },
      "source": [
        "## Approach 1 - Manual calculations"
      ]
    },
    {
      "cell_type": "code",
      "execution_count": 1,
      "metadata": {
        "id": "MhwrhCZ5OK34"
      },
      "outputs": [],
      "source": [
        "## import libraries\n",
        "import pandas as pd\n",
        "import numpy as np"
      ]
    },
    {
      "cell_type": "code",
      "execution_count": 2,
      "metadata": {
        "id": "BTtQ4TDeOK35"
      },
      "outputs": [],
      "source": [
        "## data from chapter 5 - TOPSIS example\n",
        "mtx = [[690,3.1,9,7,4]\n",
        "      ,[590,3.9,7,6,10]\n",
        "      ,[600,3.6,8,8,7]\n",
        "      ,[620,3.8,7,10,6]\n",
        "      ,[700,2.8,10,4,6]\n",
        "      ,[650,4.0,6,9,8]]"
      ]
    },
    {
      "cell_type": "code",
      "execution_count": 3,
      "metadata": {
        "id": "cZRhgtZWOK35"
      },
      "outputs": [],
      "source": [
        "## weight\n",
        "w = [0.3, 0.2,0.2, 0.15, 0.15]"
      ]
    },
    {
      "cell_type": "code",
      "execution_count": 4,
      "metadata": {
        "id": "tQm-WOvsOK35"
      },
      "outputs": [],
      "source": [
        "## Altenative names\n",
        "Names = ['Alfred', 'Beverly', 'Calvin', 'Diane', 'Edward', 'Fran']"
      ]
    },
    {
      "cell_type": "code",
      "execution_count": 5,
      "metadata": {
        "colab": {
          "base_uri": "https://localhost:8080/",
          "height": 237
        },
        "id": "GbZb9R9AOK35",
        "outputId": "40f3cf64-ed93-4530-cc83-4f4c50a7cff5"
      },
      "outputs": [
        {
          "output_type": "execute_result",
          "data": {
            "text/plain": [
              "           0    1   2   3   4\n",
              "Alfred   690  3.1   9   7   4\n",
              "Beverly  590  3.9   7   6  10\n",
              "Calvin   600  3.6   8   8   7\n",
              "Diane    620  3.8   7  10   6\n",
              "Edward   700  2.8  10   4   6\n",
              "Fran     650  4.0   6   9   8"
            ],
            "text/html": [
              "\n",
              "  <div id=\"df-35385727-624b-43bb-afec-8f83d749fb46\">\n",
              "    <div class=\"colab-df-container\">\n",
              "      <div>\n",
              "<style scoped>\n",
              "    .dataframe tbody tr th:only-of-type {\n",
              "        vertical-align: middle;\n",
              "    }\n",
              "\n",
              "    .dataframe tbody tr th {\n",
              "        vertical-align: top;\n",
              "    }\n",
              "\n",
              "    .dataframe thead th {\n",
              "        text-align: right;\n",
              "    }\n",
              "</style>\n",
              "<table border=\"1\" class=\"dataframe\">\n",
              "  <thead>\n",
              "    <tr style=\"text-align: right;\">\n",
              "      <th></th>\n",
              "      <th>0</th>\n",
              "      <th>1</th>\n",
              "      <th>2</th>\n",
              "      <th>3</th>\n",
              "      <th>4</th>\n",
              "    </tr>\n",
              "  </thead>\n",
              "  <tbody>\n",
              "    <tr>\n",
              "      <th>Alfred</th>\n",
              "      <td>690</td>\n",
              "      <td>3.1</td>\n",
              "      <td>9</td>\n",
              "      <td>7</td>\n",
              "      <td>4</td>\n",
              "    </tr>\n",
              "    <tr>\n",
              "      <th>Beverly</th>\n",
              "      <td>590</td>\n",
              "      <td>3.9</td>\n",
              "      <td>7</td>\n",
              "      <td>6</td>\n",
              "      <td>10</td>\n",
              "    </tr>\n",
              "    <tr>\n",
              "      <th>Calvin</th>\n",
              "      <td>600</td>\n",
              "      <td>3.6</td>\n",
              "      <td>8</td>\n",
              "      <td>8</td>\n",
              "      <td>7</td>\n",
              "    </tr>\n",
              "    <tr>\n",
              "      <th>Diane</th>\n",
              "      <td>620</td>\n",
              "      <td>3.8</td>\n",
              "      <td>7</td>\n",
              "      <td>10</td>\n",
              "      <td>6</td>\n",
              "    </tr>\n",
              "    <tr>\n",
              "      <th>Edward</th>\n",
              "      <td>700</td>\n",
              "      <td>2.8</td>\n",
              "      <td>10</td>\n",
              "      <td>4</td>\n",
              "      <td>6</td>\n",
              "    </tr>\n",
              "    <tr>\n",
              "      <th>Fran</th>\n",
              "      <td>650</td>\n",
              "      <td>4.0</td>\n",
              "      <td>6</td>\n",
              "      <td>9</td>\n",
              "      <td>8</td>\n",
              "    </tr>\n",
              "  </tbody>\n",
              "</table>\n",
              "</div>\n",
              "      <button class=\"colab-df-convert\" onclick=\"convertToInteractive('df-35385727-624b-43bb-afec-8f83d749fb46')\"\n",
              "              title=\"Convert this dataframe to an interactive table.\"\n",
              "              style=\"display:none;\">\n",
              "        \n",
              "  <svg xmlns=\"http://www.w3.org/2000/svg\" height=\"24px\"viewBox=\"0 0 24 24\"\n",
              "       width=\"24px\">\n",
              "    <path d=\"M0 0h24v24H0V0z\" fill=\"none\"/>\n",
              "    <path d=\"M18.56 5.44l.94 2.06.94-2.06 2.06-.94-2.06-.94-.94-2.06-.94 2.06-2.06.94zm-11 1L8.5 8.5l.94-2.06 2.06-.94-2.06-.94L8.5 2.5l-.94 2.06-2.06.94zm10 10l.94 2.06.94-2.06 2.06-.94-2.06-.94-.94-2.06-.94 2.06-2.06.94z\"/><path d=\"M17.41 7.96l-1.37-1.37c-.4-.4-.92-.59-1.43-.59-.52 0-1.04.2-1.43.59L10.3 9.45l-7.72 7.72c-.78.78-.78 2.05 0 2.83L4 21.41c.39.39.9.59 1.41.59.51 0 1.02-.2 1.41-.59l7.78-7.78 2.81-2.81c.8-.78.8-2.07 0-2.86zM5.41 20L4 18.59l7.72-7.72 1.47 1.35L5.41 20z\"/>\n",
              "  </svg>\n",
              "      </button>\n",
              "      \n",
              "  <style>\n",
              "    .colab-df-container {\n",
              "      display:flex;\n",
              "      flex-wrap:wrap;\n",
              "      gap: 12px;\n",
              "    }\n",
              "\n",
              "    .colab-df-convert {\n",
              "      background-color: #E8F0FE;\n",
              "      border: none;\n",
              "      border-radius: 50%;\n",
              "      cursor: pointer;\n",
              "      display: none;\n",
              "      fill: #1967D2;\n",
              "      height: 32px;\n",
              "      padding: 0 0 0 0;\n",
              "      width: 32px;\n",
              "    }\n",
              "\n",
              "    .colab-df-convert:hover {\n",
              "      background-color: #E2EBFA;\n",
              "      box-shadow: 0px 1px 2px rgba(60, 64, 67, 0.3), 0px 1px 3px 1px rgba(60, 64, 67, 0.15);\n",
              "      fill: #174EA6;\n",
              "    }\n",
              "\n",
              "    [theme=dark] .colab-df-convert {\n",
              "      background-color: #3B4455;\n",
              "      fill: #D2E3FC;\n",
              "    }\n",
              "\n",
              "    [theme=dark] .colab-df-convert:hover {\n",
              "      background-color: #434B5C;\n",
              "      box-shadow: 0px 1px 3px 1px rgba(0, 0, 0, 0.15);\n",
              "      filter: drop-shadow(0px 1px 2px rgba(0, 0, 0, 0.3));\n",
              "      fill: #FFFFFF;\n",
              "    }\n",
              "  </style>\n",
              "\n",
              "      <script>\n",
              "        const buttonEl =\n",
              "          document.querySelector('#df-35385727-624b-43bb-afec-8f83d749fb46 button.colab-df-convert');\n",
              "        buttonEl.style.display =\n",
              "          google.colab.kernel.accessAllowed ? 'block' : 'none';\n",
              "\n",
              "        async function convertToInteractive(key) {\n",
              "          const element = document.querySelector('#df-35385727-624b-43bb-afec-8f83d749fb46');\n",
              "          const dataTable =\n",
              "            await google.colab.kernel.invokeFunction('convertToInteractive',\n",
              "                                                     [key], {});\n",
              "          if (!dataTable) return;\n",
              "\n",
              "          const docLinkHtml = 'Like what you see? Visit the ' +\n",
              "            '<a target=\"_blank\" href=https://colab.research.google.com/notebooks/data_table.ipynb>data table notebook</a>'\n",
              "            + ' to learn more about interactive tables.';\n",
              "          element.innerHTML = '';\n",
              "          dataTable['output_type'] = 'display_data';\n",
              "          await google.colab.output.renderOutput(dataTable, element);\n",
              "          const docLink = document.createElement('div');\n",
              "          docLink.innerHTML = docLinkHtml;\n",
              "          element.appendChild(docLink);\n",
              "        }\n",
              "      </script>\n",
              "    </div>\n",
              "  </div>\n",
              "  "
            ]
          },
          "metadata": {},
          "execution_count": 5
        }
      ],
      "source": [
        "## Create dataframe\n",
        "Data = pd.DataFrame(mtx, index = Names)\n",
        "Data"
      ]
    },
    {
      "cell_type": "code",
      "execution_count": 6,
      "metadata": {
        "id": "zTR77wigOK36"
      },
      "outputs": [],
      "source": [
        "## STEP 1 - Normalization\n",
        "Data_norm = Data/np.sqrt(np.power(Data,2).sum(axis=0))"
      ]
    },
    {
      "cell_type": "code",
      "execution_count": 7,
      "metadata": {
        "colab": {
          "base_uri": "https://localhost:8080/",
          "height": 237
        },
        "id": "t9CQ8xggOK36",
        "outputId": "8fe637a3-0d0e-418e-ee58-341805b30e29"
      },
      "outputs": [
        {
          "output_type": "execute_result",
          "data": {
            "text/plain": [
              "                0         1         2         3         4\n",
              "Alfred   0.438053  0.355454  0.462299  0.376322  0.230556\n",
              "Beverly  0.374567  0.447184  0.359566  0.322562  0.576390\n",
              "Calvin   0.380916  0.412785  0.410932  0.430083  0.403473\n",
              "Diane    0.393613  0.435718  0.359566  0.537603  0.345834\n",
              "Edward   0.444402  0.321055  0.513665  0.215041  0.345834\n",
              "Fran     0.412659  0.458650  0.308199  0.483843  0.461112"
            ],
            "text/html": [
              "\n",
              "  <div id=\"df-71542fd7-0f38-4cbf-a870-8f4c13da184c\">\n",
              "    <div class=\"colab-df-container\">\n",
              "      <div>\n",
              "<style scoped>\n",
              "    .dataframe tbody tr th:only-of-type {\n",
              "        vertical-align: middle;\n",
              "    }\n",
              "\n",
              "    .dataframe tbody tr th {\n",
              "        vertical-align: top;\n",
              "    }\n",
              "\n",
              "    .dataframe thead th {\n",
              "        text-align: right;\n",
              "    }\n",
              "</style>\n",
              "<table border=\"1\" class=\"dataframe\">\n",
              "  <thead>\n",
              "    <tr style=\"text-align: right;\">\n",
              "      <th></th>\n",
              "      <th>0</th>\n",
              "      <th>1</th>\n",
              "      <th>2</th>\n",
              "      <th>3</th>\n",
              "      <th>4</th>\n",
              "    </tr>\n",
              "  </thead>\n",
              "  <tbody>\n",
              "    <tr>\n",
              "      <th>Alfred</th>\n",
              "      <td>0.438053</td>\n",
              "      <td>0.355454</td>\n",
              "      <td>0.462299</td>\n",
              "      <td>0.376322</td>\n",
              "      <td>0.230556</td>\n",
              "    </tr>\n",
              "    <tr>\n",
              "      <th>Beverly</th>\n",
              "      <td>0.374567</td>\n",
              "      <td>0.447184</td>\n",
              "      <td>0.359566</td>\n",
              "      <td>0.322562</td>\n",
              "      <td>0.576390</td>\n",
              "    </tr>\n",
              "    <tr>\n",
              "      <th>Calvin</th>\n",
              "      <td>0.380916</td>\n",
              "      <td>0.412785</td>\n",
              "      <td>0.410932</td>\n",
              "      <td>0.430083</td>\n",
              "      <td>0.403473</td>\n",
              "    </tr>\n",
              "    <tr>\n",
              "      <th>Diane</th>\n",
              "      <td>0.393613</td>\n",
              "      <td>0.435718</td>\n",
              "      <td>0.359566</td>\n",
              "      <td>0.537603</td>\n",
              "      <td>0.345834</td>\n",
              "    </tr>\n",
              "    <tr>\n",
              "      <th>Edward</th>\n",
              "      <td>0.444402</td>\n",
              "      <td>0.321055</td>\n",
              "      <td>0.513665</td>\n",
              "      <td>0.215041</td>\n",
              "      <td>0.345834</td>\n",
              "    </tr>\n",
              "    <tr>\n",
              "      <th>Fran</th>\n",
              "      <td>0.412659</td>\n",
              "      <td>0.458650</td>\n",
              "      <td>0.308199</td>\n",
              "      <td>0.483843</td>\n",
              "      <td>0.461112</td>\n",
              "    </tr>\n",
              "  </tbody>\n",
              "</table>\n",
              "</div>\n",
              "      <button class=\"colab-df-convert\" onclick=\"convertToInteractive('df-71542fd7-0f38-4cbf-a870-8f4c13da184c')\"\n",
              "              title=\"Convert this dataframe to an interactive table.\"\n",
              "              style=\"display:none;\">\n",
              "        \n",
              "  <svg xmlns=\"http://www.w3.org/2000/svg\" height=\"24px\"viewBox=\"0 0 24 24\"\n",
              "       width=\"24px\">\n",
              "    <path d=\"M0 0h24v24H0V0z\" fill=\"none\"/>\n",
              "    <path d=\"M18.56 5.44l.94 2.06.94-2.06 2.06-.94-2.06-.94-.94-2.06-.94 2.06-2.06.94zm-11 1L8.5 8.5l.94-2.06 2.06-.94-2.06-.94L8.5 2.5l-.94 2.06-2.06.94zm10 10l.94 2.06.94-2.06 2.06-.94-2.06-.94-.94-2.06-.94 2.06-2.06.94z\"/><path d=\"M17.41 7.96l-1.37-1.37c-.4-.4-.92-.59-1.43-.59-.52 0-1.04.2-1.43.59L10.3 9.45l-7.72 7.72c-.78.78-.78 2.05 0 2.83L4 21.41c.39.39.9.59 1.41.59.51 0 1.02-.2 1.41-.59l7.78-7.78 2.81-2.81c.8-.78.8-2.07 0-2.86zM5.41 20L4 18.59l7.72-7.72 1.47 1.35L5.41 20z\"/>\n",
              "  </svg>\n",
              "      </button>\n",
              "      \n",
              "  <style>\n",
              "    .colab-df-container {\n",
              "      display:flex;\n",
              "      flex-wrap:wrap;\n",
              "      gap: 12px;\n",
              "    }\n",
              "\n",
              "    .colab-df-convert {\n",
              "      background-color: #E8F0FE;\n",
              "      border: none;\n",
              "      border-radius: 50%;\n",
              "      cursor: pointer;\n",
              "      display: none;\n",
              "      fill: #1967D2;\n",
              "      height: 32px;\n",
              "      padding: 0 0 0 0;\n",
              "      width: 32px;\n",
              "    }\n",
              "\n",
              "    .colab-df-convert:hover {\n",
              "      background-color: #E2EBFA;\n",
              "      box-shadow: 0px 1px 2px rgba(60, 64, 67, 0.3), 0px 1px 3px 1px rgba(60, 64, 67, 0.15);\n",
              "      fill: #174EA6;\n",
              "    }\n",
              "\n",
              "    [theme=dark] .colab-df-convert {\n",
              "      background-color: #3B4455;\n",
              "      fill: #D2E3FC;\n",
              "    }\n",
              "\n",
              "    [theme=dark] .colab-df-convert:hover {\n",
              "      background-color: #434B5C;\n",
              "      box-shadow: 0px 1px 3px 1px rgba(0, 0, 0, 0.15);\n",
              "      filter: drop-shadow(0px 1px 2px rgba(0, 0, 0, 0.3));\n",
              "      fill: #FFFFFF;\n",
              "    }\n",
              "  </style>\n",
              "\n",
              "      <script>\n",
              "        const buttonEl =\n",
              "          document.querySelector('#df-71542fd7-0f38-4cbf-a870-8f4c13da184c button.colab-df-convert');\n",
              "        buttonEl.style.display =\n",
              "          google.colab.kernel.accessAllowed ? 'block' : 'none';\n",
              "\n",
              "        async function convertToInteractive(key) {\n",
              "          const element = document.querySelector('#df-71542fd7-0f38-4cbf-a870-8f4c13da184c');\n",
              "          const dataTable =\n",
              "            await google.colab.kernel.invokeFunction('convertToInteractive',\n",
              "                                                     [key], {});\n",
              "          if (!dataTable) return;\n",
              "\n",
              "          const docLinkHtml = 'Like what you see? Visit the ' +\n",
              "            '<a target=\"_blank\" href=https://colab.research.google.com/notebooks/data_table.ipynb>data table notebook</a>'\n",
              "            + ' to learn more about interactive tables.';\n",
              "          element.innerHTML = '';\n",
              "          dataTable['output_type'] = 'display_data';\n",
              "          await google.colab.output.renderOutput(dataTable, element);\n",
              "          const docLink = document.createElement('div');\n",
              "          docLink.innerHTML = docLinkHtml;\n",
              "          element.appendChild(docLink);\n",
              "        }\n",
              "      </script>\n",
              "    </div>\n",
              "  </div>\n",
              "  "
            ]
          },
          "metadata": {},
          "execution_count": 7
        }
      ],
      "source": [
        "Data_norm"
      ]
    },
    {
      "cell_type": "code",
      "execution_count": 8,
      "metadata": {
        "colab": {
          "base_uri": "https://localhost:8080/",
          "height": 237
        },
        "id": "_X9lMSO1OK37",
        "outputId": "ab4214a2-7ac7-44ff-8e18-4de4d6bef6cd"
      },
      "outputs": [
        {
          "output_type": "execute_result",
          "data": {
            "text/plain": [
              "                0         1         2         3         4\n",
              "Alfred   0.131416  0.071091  0.092460  0.056448  0.034583\n",
              "Beverly  0.112370  0.089437  0.071913  0.048384  0.086459\n",
              "Calvin   0.114275  0.082557  0.082186  0.064512  0.060521\n",
              "Diane    0.118084  0.087144  0.071913  0.080640  0.051875\n",
              "Edward   0.133321  0.064211  0.102733  0.032256  0.051875\n",
              "Fran     0.123798  0.091730  0.061640  0.072576  0.069167"
            ],
            "text/html": [
              "\n",
              "  <div id=\"df-c7da00ca-19c7-4d2b-87de-37fb83f89dbc\">\n",
              "    <div class=\"colab-df-container\">\n",
              "      <div>\n",
              "<style scoped>\n",
              "    .dataframe tbody tr th:only-of-type {\n",
              "        vertical-align: middle;\n",
              "    }\n",
              "\n",
              "    .dataframe tbody tr th {\n",
              "        vertical-align: top;\n",
              "    }\n",
              "\n",
              "    .dataframe thead th {\n",
              "        text-align: right;\n",
              "    }\n",
              "</style>\n",
              "<table border=\"1\" class=\"dataframe\">\n",
              "  <thead>\n",
              "    <tr style=\"text-align: right;\">\n",
              "      <th></th>\n",
              "      <th>0</th>\n",
              "      <th>1</th>\n",
              "      <th>2</th>\n",
              "      <th>3</th>\n",
              "      <th>4</th>\n",
              "    </tr>\n",
              "  </thead>\n",
              "  <tbody>\n",
              "    <tr>\n",
              "      <th>Alfred</th>\n",
              "      <td>0.131416</td>\n",
              "      <td>0.071091</td>\n",
              "      <td>0.092460</td>\n",
              "      <td>0.056448</td>\n",
              "      <td>0.034583</td>\n",
              "    </tr>\n",
              "    <tr>\n",
              "      <th>Beverly</th>\n",
              "      <td>0.112370</td>\n",
              "      <td>0.089437</td>\n",
              "      <td>0.071913</td>\n",
              "      <td>0.048384</td>\n",
              "      <td>0.086459</td>\n",
              "    </tr>\n",
              "    <tr>\n",
              "      <th>Calvin</th>\n",
              "      <td>0.114275</td>\n",
              "      <td>0.082557</td>\n",
              "      <td>0.082186</td>\n",
              "      <td>0.064512</td>\n",
              "      <td>0.060521</td>\n",
              "    </tr>\n",
              "    <tr>\n",
              "      <th>Diane</th>\n",
              "      <td>0.118084</td>\n",
              "      <td>0.087144</td>\n",
              "      <td>0.071913</td>\n",
              "      <td>0.080640</td>\n",
              "      <td>0.051875</td>\n",
              "    </tr>\n",
              "    <tr>\n",
              "      <th>Edward</th>\n",
              "      <td>0.133321</td>\n",
              "      <td>0.064211</td>\n",
              "      <td>0.102733</td>\n",
              "      <td>0.032256</td>\n",
              "      <td>0.051875</td>\n",
              "    </tr>\n",
              "    <tr>\n",
              "      <th>Fran</th>\n",
              "      <td>0.123798</td>\n",
              "      <td>0.091730</td>\n",
              "      <td>0.061640</td>\n",
              "      <td>0.072576</td>\n",
              "      <td>0.069167</td>\n",
              "    </tr>\n",
              "  </tbody>\n",
              "</table>\n",
              "</div>\n",
              "      <button class=\"colab-df-convert\" onclick=\"convertToInteractive('df-c7da00ca-19c7-4d2b-87de-37fb83f89dbc')\"\n",
              "              title=\"Convert this dataframe to an interactive table.\"\n",
              "              style=\"display:none;\">\n",
              "        \n",
              "  <svg xmlns=\"http://www.w3.org/2000/svg\" height=\"24px\"viewBox=\"0 0 24 24\"\n",
              "       width=\"24px\">\n",
              "    <path d=\"M0 0h24v24H0V0z\" fill=\"none\"/>\n",
              "    <path d=\"M18.56 5.44l.94 2.06.94-2.06 2.06-.94-2.06-.94-.94-2.06-.94 2.06-2.06.94zm-11 1L8.5 8.5l.94-2.06 2.06-.94-2.06-.94L8.5 2.5l-.94 2.06-2.06.94zm10 10l.94 2.06.94-2.06 2.06-.94-2.06-.94-.94-2.06-.94 2.06-2.06.94z\"/><path d=\"M17.41 7.96l-1.37-1.37c-.4-.4-.92-.59-1.43-.59-.52 0-1.04.2-1.43.59L10.3 9.45l-7.72 7.72c-.78.78-.78 2.05 0 2.83L4 21.41c.39.39.9.59 1.41.59.51 0 1.02-.2 1.41-.59l7.78-7.78 2.81-2.81c.8-.78.8-2.07 0-2.86zM5.41 20L4 18.59l7.72-7.72 1.47 1.35L5.41 20z\"/>\n",
              "  </svg>\n",
              "      </button>\n",
              "      \n",
              "  <style>\n",
              "    .colab-df-container {\n",
              "      display:flex;\n",
              "      flex-wrap:wrap;\n",
              "      gap: 12px;\n",
              "    }\n",
              "\n",
              "    .colab-df-convert {\n",
              "      background-color: #E8F0FE;\n",
              "      border: none;\n",
              "      border-radius: 50%;\n",
              "      cursor: pointer;\n",
              "      display: none;\n",
              "      fill: #1967D2;\n",
              "      height: 32px;\n",
              "      padding: 0 0 0 0;\n",
              "      width: 32px;\n",
              "    }\n",
              "\n",
              "    .colab-df-convert:hover {\n",
              "      background-color: #E2EBFA;\n",
              "      box-shadow: 0px 1px 2px rgba(60, 64, 67, 0.3), 0px 1px 3px 1px rgba(60, 64, 67, 0.15);\n",
              "      fill: #174EA6;\n",
              "    }\n",
              "\n",
              "    [theme=dark] .colab-df-convert {\n",
              "      background-color: #3B4455;\n",
              "      fill: #D2E3FC;\n",
              "    }\n",
              "\n",
              "    [theme=dark] .colab-df-convert:hover {\n",
              "      background-color: #434B5C;\n",
              "      box-shadow: 0px 1px 3px 1px rgba(0, 0, 0, 0.15);\n",
              "      filter: drop-shadow(0px 1px 2px rgba(0, 0, 0, 0.3));\n",
              "      fill: #FFFFFF;\n",
              "    }\n",
              "  </style>\n",
              "\n",
              "      <script>\n",
              "        const buttonEl =\n",
              "          document.querySelector('#df-c7da00ca-19c7-4d2b-87de-37fb83f89dbc button.colab-df-convert');\n",
              "        buttonEl.style.display =\n",
              "          google.colab.kernel.accessAllowed ? 'block' : 'none';\n",
              "\n",
              "        async function convertToInteractive(key) {\n",
              "          const element = document.querySelector('#df-c7da00ca-19c7-4d2b-87de-37fb83f89dbc');\n",
              "          const dataTable =\n",
              "            await google.colab.kernel.invokeFunction('convertToInteractive',\n",
              "                                                     [key], {});\n",
              "          if (!dataTable) return;\n",
              "\n",
              "          const docLinkHtml = 'Like what you see? Visit the ' +\n",
              "            '<a target=\"_blank\" href=https://colab.research.google.com/notebooks/data_table.ipynb>data table notebook</a>'\n",
              "            + ' to learn more about interactive tables.';\n",
              "          element.innerHTML = '';\n",
              "          dataTable['output_type'] = 'display_data';\n",
              "          await google.colab.output.renderOutput(dataTable, element);\n",
              "          const docLink = document.createElement('div');\n",
              "          docLink.innerHTML = docLinkHtml;\n",
              "          element.appendChild(docLink);\n",
              "        }\n",
              "      </script>\n",
              "    </div>\n",
              "  </div>\n",
              "  "
            ]
          },
          "metadata": {},
          "execution_count": 8
        }
      ],
      "source": [
        "## STEP 2 - Weighted normalized ratings\n",
        "Data_norm_w = Data_norm*w\n",
        "Data_norm_w"
      ]
    },
    {
      "cell_type": "code",
      "execution_count": 10,
      "metadata": {
        "id": "I6LmaacuOK37"
      },
      "outputs": [],
      "source": [
        "## STEP 3 - Identifying positive and negative ideals\n",
        "positive_ideal = Data_norm_w.max()\n",
        "negative_ideal = Data_norm_w.min()"
      ]
    },
    {
      "cell_type": "code",
      "execution_count": 12,
      "metadata": {
        "colab": {
          "base_uri": "https://localhost:8080/"
        },
        "id": "whpan3rhOK37",
        "outputId": "7df18b92-0934-4a63-937c-9bb109597e2c"
      },
      "outputs": [
        {
          "output_type": "execute_result",
          "data": {
            "text/plain": [
              "0    0.133321\n",
              "1    0.091730\n",
              "2    0.102733\n",
              "3    0.080640\n",
              "4    0.086459\n",
              "dtype: float64"
            ]
          },
          "metadata": {},
          "execution_count": 12
        }
      ],
      "source": [
        "Data_norm_w.max()"
      ]
    },
    {
      "cell_type": "code",
      "execution_count": 13,
      "metadata": {
        "id": "SEpD4cEeOK38"
      },
      "outputs": [],
      "source": [
        "## STEP 4 - Seperation Measurements:\n",
        "##Positive Ideal\n",
        "SM_P = np.sqrt(np.power(Data_norm_w-positive_ideal,2).sum(axis=1))\n",
        "##Negative Ideal\n",
        "SM_N = np.sqrt(np.power(Data_norm_w-negative_ideal,2).sum(axis=1))"
      ]
    },
    {
      "cell_type": "code",
      "execution_count": 14,
      "metadata": {
        "colab": {
          "base_uri": "https://localhost:8080/"
        },
        "id": "rwzKrFSaOK38",
        "outputId": "edd82735-1ccc-46e3-f68c-960c47fe4ab1"
      },
      "outputs": [
        {
          "output_type": "execute_result",
          "data": {
            "text/plain": [
              "Alfred     0.061737\n",
              "Beverly    0.049341\n",
              "Calvin     0.042449\n",
              "Diane      0.048980\n",
              "Edward     0.065531\n",
              "Fran       0.046297\n",
              "dtype: float64"
            ]
          },
          "metadata": {},
          "execution_count": 14
        }
      ],
      "source": [
        "np.sqrt(np.power(Data_norm_w-positive_ideal,2).sum(axis=1))"
      ]
    },
    {
      "cell_type": "code",
      "execution_count": 15,
      "metadata": {
        "colab": {
          "base_uri": "https://localhost:8080/"
        },
        "id": "zhN6y8v8OK39",
        "outputId": "e570ebdc-0879-4957-833a-71a7d4bac49d"
      },
      "outputs": [
        {
          "output_type": "execute_result",
          "data": {
            "text/plain": [
              "Alfred     0.416704\n",
              "Beverly    0.551900\n",
              "Calvin     0.539620\n",
              "Diane      0.539926\n",
              "Edward     0.429128\n",
              "Fran       0.568142\n",
              "dtype: float64"
            ]
          },
          "metadata": {},
          "execution_count": 15
        }
      ],
      "source": [
        "SM_N/(SM_N+SM_P)"
      ]
    },
    {
      "cell_type": "markdown",
      "metadata": {
        "id": "sHLKm2QAOK39"
      },
      "source": [
        "## Approach 2 - sk-criteria library"
      ]
    },
    {
      "cell_type": "code",
      "execution_count": 18,
      "metadata": {
        "id": "mF8qfIWlOK3-"
      },
      "outputs": [],
      "source": [
        "pip install scikit-criteria\n",
        "import pandas as pd\n",
        "import numpy as np\n",
        "import skcriteria as skc"
      ]
    },
    {
      "cell_type": "code",
      "execution_count": 19,
      "metadata": {
        "id": "TQoOSu7hOK3-"
      },
      "outputs": [],
      "source": [
        "## data from chapter 5 - TOPSIS example\n",
        "mtx = [[690,3.1,9,7,4]\n",
        "      ,[590,3.9,7,6,10]\n",
        "      ,[600,3.6,8,8,7]\n",
        "      ,[620,3.8,7,10,6]\n",
        "      ,[700,2.8,10,4,6]\n",
        "      ,[650,4.0,6,9,8]]\n",
        "\n",
        "## weights\n",
        "w = [0.3, 0.2,0.2, 0.15, 0.15]\n",
        "\n",
        "## Alternatives\n",
        "alternatives = ['Alfred', 'Beverly', 'Calvin', 'Diane', 'Edward', 'Fran']\n",
        "\n",
        "## Attributes\n",
        "criteria = ['GRE', 'GPA', 'college', 'recommendation', 'interview']\n",
        "\n",
        "## Identifying benefit (MAX) and cost (MIN) attributes\n",
        "objectives = [max, max, max, max, max]\n",
        "\n",
        "dm = skc.mkdm(mtx, objectives, weights = w, alternatives = alternatives, criteria=criteria)"
      ]
    },
    {
      "cell_type": "code",
      "execution_count": null,
      "metadata": {
        "id": "bSxUZGlDOK3-"
      },
      "outputs": [],
      "source": [
        "dm.plot.wheatmap()"
      ]
    },
    {
      "cell_type": "code",
      "execution_count": null,
      "metadata": {
        "id": "8yrJwn2WOK3-"
      },
      "outputs": [],
      "source": [
        "dm.plot.wbar(cmap=\"viridis\")"
      ]
    },
    {
      "cell_type": "code",
      "execution_count": 22,
      "metadata": {
        "id": "PfRHo6hIOK3-"
      },
      "outputs": [],
      "source": [
        "from skcriteria.preprocessing import invert_objectives, scalers # Preporcessing steps\n",
        "from skcriteria.madm import similarity  # here lives TOPSIS\n",
        "from skcriteria.pipeline import mkpipe  # this function is for create pipelines"
      ]
    },
    {
      "cell_type": "code",
      "execution_count": 23,
      "metadata": {
        "colab": {
          "base_uri": "https://localhost:8080/",
          "height": 79
        },
        "id": "y8fLFwcwOK3_",
        "outputId": "69ddaf48-6ef9-4c69-a64d-d04675789fb3"
      },
      "outputs": [
        {
          "output_type": "execute_result",
          "data": {
            "text/plain": [
              "Alternatives  Alfred  Beverly  Calvin  Diane  Edward  Fran\n",
              "Rank               6        2       4      3       5     1\n",
              "[Method: TOPSIS]"
            ],
            "text/html": [
              "<div class='skcresult-rank skcresult'>\n",
              "<style type=\"text/css\">\n",
              "</style>\n",
              "<table id=\"T_ac586\">\n",
              "  <thead>\n",
              "    <tr>\n",
              "      <th class=\"index_name level0\" >Alternatives</th>\n",
              "      <th id=\"T_ac586_level0_col0\" class=\"col_heading level0 col0\" >Alfred</th>\n",
              "      <th id=\"T_ac586_level0_col1\" class=\"col_heading level0 col1\" >Beverly</th>\n",
              "      <th id=\"T_ac586_level0_col2\" class=\"col_heading level0 col2\" >Calvin</th>\n",
              "      <th id=\"T_ac586_level0_col3\" class=\"col_heading level0 col3\" >Diane</th>\n",
              "      <th id=\"T_ac586_level0_col4\" class=\"col_heading level0 col4\" >Edward</th>\n",
              "      <th id=\"T_ac586_level0_col5\" class=\"col_heading level0 col5\" >Fran</th>\n",
              "    </tr>\n",
              "  </thead>\n",
              "  <tbody>\n",
              "    <tr>\n",
              "      <th id=\"T_ac586_level0_row0\" class=\"row_heading level0 row0\" >Rank</th>\n",
              "      <td id=\"T_ac586_row0_col0\" class=\"data row0 col0\" >6</td>\n",
              "      <td id=\"T_ac586_row0_col1\" class=\"data row0 col1\" >2</td>\n",
              "      <td id=\"T_ac586_row0_col2\" class=\"data row0 col2\" >4</td>\n",
              "      <td id=\"T_ac586_row0_col3\" class=\"data row0 col3\" >3</td>\n",
              "      <td id=\"T_ac586_row0_col4\" class=\"data row0 col4\" >5</td>\n",
              "      <td id=\"T_ac586_row0_col5\" class=\"data row0 col5\" >1</td>\n",
              "    </tr>\n",
              "  </tbody>\n",
              "</table>\n",
              "<em class='skcresult-method'>Method: TOPSIS</em>\n",
              "</div>"
            ]
          },
          "metadata": {},
          "execution_count": 23
        }
      ],
      "source": [
        "# TOPSIS\n",
        "# Create a pipeline to perform TOPSIS\n",
        "pipe = mkpipe(\n",
        "    invert_objectives.InvertMinimize(), # Convert cost attributes to benefit attributes\n",
        "    scalers.VectorScaler(target=\"matrix\"),  # this scaler transform the matrix. The other option is SumScaler.\n",
        "    similarity.TOPSIS(), # TOPSIS method\n",
        ")\n",
        "\n",
        "# Evaluation\n",
        "rank = pipe.evaluate(dm)\n",
        "rank"
      ]
    },
    {
      "cell_type": "code",
      "execution_count": 24,
      "metadata": {
        "colab": {
          "base_uri": "https://localhost:8080/"
        },
        "id": "JPnYvORyOK3_",
        "outputId": "327f0c1f-813d-4a8f-8a45-0b21f00cc996"
      },
      "outputs": [
        {
          "output_type": "stream",
          "name": "stdout",
          "text": [
            "<extra {'ideal', 'anti_ideal', 'similarity'}>\n",
            "Ideal: [0.13332057 0.09173009 0.1027331  0.0806405  0.08645856]\n",
            "Anti-Ideal: [0.11237019 0.06421106 0.06163986 0.0322562  0.03458343]\n",
            "Similarity index: [0.41670356 0.55190009 0.53961966 0.53992627 0.42912804 0.56814199]\n"
          ]
        }
      ],
      "source": [
        "print(rank.e_)\n",
        "print(\"Ideal:\", rank.e_.ideal)\n",
        "print(\"Anti-Ideal:\", rank.e_.anti_ideal)\n",
        "print(\"Similarity index:\", rank.e_.similarity)"
      ]
    },
    {
      "cell_type": "code",
      "execution_count": null,
      "metadata": {
        "id": "gjqZ_FJOOK3_"
      },
      "outputs": [],
      "source": [
        "# ELECTRE\n",
        "from skcriteria.madm import electre\n",
        "\n",
        "pipe_vector = mkpipe(\n",
        "    invert_objectives.InvertMinimize(),\n",
        "    scalers.VectorScaler(target=\"matrix\"),  # this scaler transform the matrix\n",
        "    electre.ELECTRE1(p=0.65, q=0.35),\n",
        ")\n",
        "\n",
        "kernel_vector = pipe_vector.evaluate(dm)\n",
        "kernel_vector"
      ]
    },
    {
      "cell_type": "code",
      "execution_count": null,
      "metadata": {
        "id": "JJ237Eo1OK3_"
      },
      "outputs": [],
      "source": [
        "# WSM\n",
        "from skcriteria.madm import simple\n",
        "dec = simple.WeightedSumModel()\n",
        "\n",
        "inverter = invert_objectives.InvertMinimize()\n",
        "dmt = inverter.transform(dm)\n",
        "\n",
        "scaler = scalers.SumScaler(target=\"both\")\n",
        "dmt = scaler.transform(dmt)\n",
        "\n",
        "rank = dec.evaluate(dmt)  # we use the tansformed version of the data\n",
        "rank"
      ]
    }
  ],
  "metadata": {
    "kernelspec": {
      "display_name": "Python 3",
      "language": "python",
      "name": "python3"
    },
    "language_info": {
      "codemirror_mode": {
        "name": "ipython",
        "version": 3
      },
      "file_extension": ".py",
      "mimetype": "text/x-python",
      "name": "python",
      "nbconvert_exporter": "python",
      "pygments_lexer": "ipython3",
      "version": "3.8.5"
    },
    "colab": {
      "provenance": [],
      "include_colab_link": true
    }
  },
  "nbformat": 4,
  "nbformat_minor": 0
}