{
  "cells": [
    {
      "cell_type": "markdown",
      "metadata": {
        "id": "view-in-github",
        "colab_type": "text"
      },
      "source": [
        "<a href=\"https://colab.research.google.com/github/miladramzy/MCDM_DOE_UBC_ENGR_589/blob/main/Lab4_Fractional_Factorial_Design.ipynb\" target=\"_parent\"><img src=\"https://colab.research.google.com/assets/colab-badge.svg\" alt=\"Open In Colab\"/></a>"
      ]
    },
    {
      "cell_type": "markdown",
      "metadata": {
        "id": "n-tAHMAJ7fpq"
      },
      "source": [
        "# ENGR 489/589\n",
        "### School of Engineering - Okanagan Campus\n",
        "### By Milad Ramezankhani, Dr. Abbas Milani\n",
        "#### milad.ramezankhani@ubc.ca | https://miladramzy.github.io/\n",
        "## Lab 4 - Fractional Factorial Design"
      ]
    },
    {
      "cell_type": "code",
      "execution_count": 2,
      "metadata": {
        "colab": {
          "base_uri": "https://localhost:8080/"
        },
        "id": "GuuvoM387fpt",
        "outputId": "69a89280-a8c5-4073-963e-ed1bf3b87fd3"
      },
      "outputs": [
        {
          "output_type": "stream",
          "name": "stdout",
          "text": [
            "Collecting pydoe2\n",
            "  Downloading pyDOE2-1.3.0.tar.gz (19 kB)\n",
            "  Preparing metadata (setup.py) ... \u001b[?25l\u001b[?25hdone\n",
            "Requirement already satisfied: numpy in /usr/local/lib/python3.10/dist-packages (from pydoe2) (1.23.5)\n",
            "Requirement already satisfied: scipy in /usr/local/lib/python3.10/dist-packages (from pydoe2) (1.11.3)\n",
            "Building wheels for collected packages: pydoe2\n",
            "  Building wheel for pydoe2 (setup.py) ... \u001b[?25l\u001b[?25hdone\n",
            "  Created wheel for pydoe2: filename=pyDOE2-1.3.0-py3-none-any.whl size=25521 sha256=030da481a9723fa3a9c87cfa6467c1d5a68c523d13088fb966d24f0927bc2036\n",
            "  Stored in directory: /root/.cache/pip/wheels/46/1f/29/6fda5c72f950841e39147ae603780ee913a62f977b4ad47ee4\n",
            "Successfully built pydoe2\n",
            "Installing collected packages: pydoe2\n",
            "Successfully installed pydoe2-1.3.0\n"
          ]
        }
      ],
      "source": [
        "# Install pyDOE first:\n",
        "! pip install pydoe2\n",
        "from pyDOE2 import *"
      ]
    },
    {
      "cell_type": "code",
      "execution_count": 3,
      "metadata": {
        "collapsed": true,
        "colab": {
          "base_uri": "https://localhost:8080/"
        },
        "id": "ZHslcZeP7fpv",
        "outputId": "9a4a9655-2d5e-45e8-8670-cdeec48ea31f"
      },
      "outputs": [
        {
          "output_type": "execute_result",
          "data": {
            "text/plain": [
              "array([[-1., -1., -1., -1., -1.],\n",
              "       [ 1., -1., -1., -1., -1.],\n",
              "       [-1.,  1., -1., -1., -1.],\n",
              "       [ 1.,  1., -1., -1., -1.],\n",
              "       [-1., -1.,  1., -1., -1.],\n",
              "       [ 1., -1.,  1., -1., -1.],\n",
              "       [-1.,  1.,  1., -1., -1.],\n",
              "       [ 1.,  1.,  1., -1., -1.],\n",
              "       [-1., -1., -1.,  1., -1.],\n",
              "       [ 1., -1., -1.,  1., -1.],\n",
              "       [-1.,  1., -1.,  1., -1.],\n",
              "       [ 1.,  1., -1.,  1., -1.],\n",
              "       [-1., -1.,  1.,  1., -1.],\n",
              "       [ 1., -1.,  1.,  1., -1.],\n",
              "       [-1.,  1.,  1.,  1., -1.],\n",
              "       [ 1.,  1.,  1.,  1., -1.],\n",
              "       [-1., -1., -1., -1.,  1.],\n",
              "       [ 1., -1., -1., -1.,  1.],\n",
              "       [-1.,  1., -1., -1.,  1.],\n",
              "       [ 1.,  1., -1., -1.,  1.],\n",
              "       [-1., -1.,  1., -1.,  1.],\n",
              "       [ 1., -1.,  1., -1.,  1.],\n",
              "       [-1.,  1.,  1., -1.,  1.],\n",
              "       [ 1.,  1.,  1., -1.,  1.],\n",
              "       [-1., -1., -1.,  1.,  1.],\n",
              "       [ 1., -1., -1.,  1.,  1.],\n",
              "       [-1.,  1., -1.,  1.,  1.],\n",
              "       [ 1.,  1., -1.,  1.,  1.],\n",
              "       [-1., -1.,  1.,  1.,  1.],\n",
              "       [ 1., -1.,  1.,  1.,  1.],\n",
              "       [-1.,  1.,  1.,  1.,  1.],\n",
              "       [ 1.,  1.,  1.,  1.,  1.]])"
            ]
          },
          "metadata": {},
          "execution_count": 3
        }
      ],
      "source": [
        "# Full factorial\n",
        "ff2n(5)"
      ]
    },
    {
      "cell_type": "code",
      "execution_count": 4,
      "metadata": {
        "collapsed": true,
        "colab": {
          "base_uri": "https://localhost:8080/"
        },
        "id": "Yw9qSuQu7fpw",
        "outputId": "d25c3baf-ac8e-49e6-b600-1582f86a0a45"
      },
      "outputs": [
        {
          "output_type": "execute_result",
          "data": {
            "text/plain": [
              "array([[-1., -1., -1.,  1.,  1.],\n",
              "       [ 1., -1., -1., -1., -1.],\n",
              "       [-1.,  1., -1., -1.,  1.],\n",
              "       [ 1.,  1., -1.,  1., -1.],\n",
              "       [-1., -1.,  1.,  1., -1.],\n",
              "       [ 1., -1.,  1., -1.,  1.],\n",
              "       [-1.,  1.,  1., -1., -1.],\n",
              "       [ 1.,  1.,  1.,  1.,  1.]])"
            ]
          },
          "metadata": {},
          "execution_count": 4
        }
      ],
      "source": [
        "# Fractional factorial design\n",
        "fracfact('a b c ab ac')"
      ]
    },
    {
      "cell_type": "code",
      "execution_count": 5,
      "metadata": {
        "id": "a4cuZWlp7fpw"
      },
      "outputs": [],
      "source": [
        "# saving the design into a csv file:\n",
        "import pandas as pd\n",
        "fullf = ff2n(5)\n",
        "fracf = fracfact('a b c ab ac')\n",
        "pd.DataFrame(fullf).to_csv('full_fact.csv')\n",
        "pd.DataFrame(fracf).to_csv('frac_fact.csv')"
      ]
    },
    {
      "cell_type": "code",
      "execution_count": 6,
      "metadata": {
        "colab": {
          "base_uri": "https://localhost:8080/",
          "height": 35
        },
        "id": "_jDZIZ7B7fpx",
        "outputId": "9183b8ed-ac36-4cd8-f12f-2d48a0fea318"
      },
      "outputs": [
        {
          "output_type": "execute_result",
          "data": {
            "text/plain": [
              "'/content'"
            ],
            "application/vnd.google.colaboratory.intrinsic+json": {
              "type": "string"
            }
          },
          "metadata": {},
          "execution_count": 6
        }
      ],
      "source": [
        "# csv files can be found in the Jupyter working directory:\n",
        "%pwd"
      ]
    },
    {
      "cell_type": "code",
      "source": [],
      "metadata": {
        "id": "CzYrRRqE7sQT"
      },
      "execution_count": null,
      "outputs": []
    }
  ],
  "metadata": {
    "kernelspec": {
      "display_name": "Python 3",
      "language": "python",
      "name": "python3"
    },
    "language_info": {
      "codemirror_mode": {
        "name": "ipython",
        "version": 3
      },
      "file_extension": ".py",
      "mimetype": "text/x-python",
      "name": "python",
      "nbconvert_exporter": "python",
      "pygments_lexer": "ipython3",
      "version": "3.7.3"
    },
    "colab": {
      "provenance": [],
      "include_colab_link": true
    }
  },
  "nbformat": 4,
  "nbformat_minor": 0
}