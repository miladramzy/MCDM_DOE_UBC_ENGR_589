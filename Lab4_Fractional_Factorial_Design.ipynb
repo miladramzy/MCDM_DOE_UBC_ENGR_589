{
 "cells": [
  {
   "cell_type": "markdown",
   "metadata": {},
   "source": [
    "# ENGR 489/589\n",
    "### School of Engineering - Okanagan Campus\n",
    "### By Milad Ramezankhani, Dr. Abbas Milani\n",
    "#### milad.ramezankhani@ubc.ca | https://miladramzy.github.io/\n",
    "## Lab 4 - Fractional Factorial Design"
   ]
  },
  {
   "cell_type": "code",
   "execution_count": 1,
   "metadata": {},
   "outputs": [],
   "source": [
    "# Install pyDOE first: \n",
    "# pip install pydoe2\n",
    "from pyDOE2 import *"
   ]
  },
  {
   "cell_type": "code",
   "execution_count": 6,
   "metadata": {
    "collapsed": true
   },
   "outputs": [
    {
     "data": {
      "text/plain": [
       "array([[-1., -1., -1., -1., -1.],\n",
       "       [ 1., -1., -1., -1., -1.],\n",
       "       [-1.,  1., -1., -1., -1.],\n",
       "       [ 1.,  1., -1., -1., -1.],\n",
       "       [-1., -1.,  1., -1., -1.],\n",
       "       [ 1., -1.,  1., -1., -1.],\n",
       "       [-1.,  1.,  1., -1., -1.],\n",
       "       [ 1.,  1.,  1., -1., -1.],\n",
       "       [-1., -1., -1.,  1., -1.],\n",
       "       [ 1., -1., -1.,  1., -1.],\n",
       "       [-1.,  1., -1.,  1., -1.],\n",
       "       [ 1.,  1., -1.,  1., -1.],\n",
       "       [-1., -1.,  1.,  1., -1.],\n",
       "       [ 1., -1.,  1.,  1., -1.],\n",
       "       [-1.,  1.,  1.,  1., -1.],\n",
       "       [ 1.,  1.,  1.,  1., -1.],\n",
       "       [-1., -1., -1., -1.,  1.],\n",
       "       [ 1., -1., -1., -1.,  1.],\n",
       "       [-1.,  1., -1., -1.,  1.],\n",
       "       [ 1.,  1., -1., -1.,  1.],\n",
       "       [-1., -1.,  1., -1.,  1.],\n",
       "       [ 1., -1.,  1., -1.,  1.],\n",
       "       [-1.,  1.,  1., -1.,  1.],\n",
       "       [ 1.,  1.,  1., -1.,  1.],\n",
       "       [-1., -1., -1.,  1.,  1.],\n",
       "       [ 1., -1., -1.,  1.,  1.],\n",
       "       [-1.,  1., -1.,  1.,  1.],\n",
       "       [ 1.,  1., -1.,  1.,  1.],\n",
       "       [-1., -1.,  1.,  1.,  1.],\n",
       "       [ 1., -1.,  1.,  1.,  1.],\n",
       "       [-1.,  1.,  1.,  1.,  1.],\n",
       "       [ 1.,  1.,  1.,  1.,  1.]])"
      ]
     },
     "execution_count": 6,
     "metadata": {},
     "output_type": "execute_result"
    }
   ],
   "source": [
    "# Full factorial\n",
    "ff2n(5)"
   ]
  },
  {
   "cell_type": "code",
   "execution_count": 4,
   "metadata": {
    "collapsed": true
   },
   "outputs": [
    {
     "data": {
      "text/plain": [
       "array([[-1., -1., -1.,  1.,  1.],\n",
       "       [ 1., -1., -1., -1., -1.],\n",
       "       [-1.,  1., -1., -1.,  1.],\n",
       "       [ 1.,  1., -1.,  1., -1.],\n",
       "       [-1., -1.,  1.,  1., -1.],\n",
       "       [ 1., -1.,  1., -1.,  1.],\n",
       "       [-1.,  1.,  1., -1., -1.],\n",
       "       [ 1.,  1.,  1.,  1.,  1.]])"
      ]
     },
     "execution_count": 4,
     "metadata": {},
     "output_type": "execute_result"
    }
   ],
   "source": [
    "# Fractional factorial design\n",
    "fracfact('a b c ab ac')"
   ]
  },
  {
   "cell_type": "code",
   "execution_count": 8,
   "metadata": {},
   "outputs": [],
   "source": [
    "# saving the design into a csv file:\n",
    "import pandas as pd\n",
    "fullf = ff2n(5)\n",
    "fracf = fracfact('a b c ab ac')\n",
    "pd.DataFrame(fullf).to_csv('full_fact.csv')\n",
    "pd.DataFrame(fracf).to_csv('frac_fact.csv')"
   ]
  },
  {
   "cell_type": "code",
   "execution_count": null,
   "metadata": {},
   "outputs": [],
   "source": [
    "# csv files can be found in the Jupyter working directory:\n",
    "%pwd"
   ]
  }
 ],
 "metadata": {
  "kernelspec": {
   "display_name": "Python 3",
   "language": "python",
   "name": "python3"
  },
  "language_info": {
   "codemirror_mode": {
    "name": "ipython",
    "version": 3
   },
   "file_extension": ".py",
   "mimetype": "text/x-python",
   "name": "python",
   "nbconvert_exporter": "python",
   "pygments_lexer": "ipython3",
   "version": "3.7.3"
  }
 },
 "nbformat": 4,
 "nbformat_minor": 2
}
